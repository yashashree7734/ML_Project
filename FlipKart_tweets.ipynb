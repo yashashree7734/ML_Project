{
  "nbformat": 4,
  "nbformat_minor": 0,
  "metadata": {
    "colab": {
      "provenance": []
    },
    "kernelspec": {
      "name": "python3",
      "display_name": "Python 3"
    },
    "language_info": {
      "name": "python"
    }
  },
  "cells": [
    {
      "cell_type": "markdown",
      "source": [
        "## Prolem Statement: <br>\n",
        "\n",
        "Most Dominant Online shopping comapny Flipkart is looking to learn more about the hunch\n",
        "of its consumer so that they can enhance its product handout, elevate customer happiness\n",
        "and upgrade the overall shopping experience. To further automatically differntiate customer\n",
        "reviews as Positive, Negative, or Neutral, the organization plans to apply sentiment analysis component.\n",
        "The dataset was collected from the feedback section of the flipkart.com and flipkart application under each product\n",
        "the data set consist of product name, reviews, summary and sentiment.<br>\n",
        "Our sentiment class have three class - Positive , Negative and Neutral.<br>\n",
        "Business Problems:<br>\n",
        "1) Customers are unsatisfied<br>\n",
        "2) To get areas were we lack<br>\n",
        "3) To gain competative edge in the market<br>\n",
        "\n",
        "Thus by giving higher quality user satisfaction, and gathering intutive information from their reviews to discover areas in need of outcome, and to make meaningful decisions out of which will help company to grow and gain profit.<br>\n",
        "\n",
        "Source of the Dataset:- https://www.kaggle.com/code/satyamkhare1193/flipkart-sentiment-analysis-text-classification/input"
      ],
      "metadata": {
        "id": "XCteSjr8F3Ok"
      }
    },
    {
      "cell_type": "markdown",
      "source": [
        "### Importing Libraries"
      ],
      "metadata": {
        "id": "T-3BqSe-wn4k"
      }
    },
    {
      "cell_type": "code",
      "execution_count": 1,
      "metadata": {
        "id": "FzBBrwLMhMhP",
        "colab": {
          "base_uri": "https://localhost:8080/"
        },
        "outputId": "60a19d8f-82d7-4ca0-8f8a-14842c99b455"
      },
      "outputs": [
        {
          "output_type": "stream",
          "name": "stderr",
          "text": [
            "[nltk_data] Downloading package punkt to /root/nltk_data...\n",
            "[nltk_data]   Package punkt is already up-to-date!\n",
            "[nltk_data] Downloading package stopwords to /root/nltk_data...\n",
            "[nltk_data]   Package stopwords is already up-to-date!\n",
            "[nltk_data] Downloading package wordnet to /root/nltk_data...\n",
            "[nltk_data]   Package wordnet is already up-to-date!\n"
          ]
        }
      ],
      "source": [
        "import pandas as pd\n",
        "import matplotlib.pyplot as pt\n",
        "import seaborn as sns\n",
        "import nltk\n",
        "nltk.download('punkt')\n",
        "from nltk.corpus import stopwords\n",
        "nltk.download('stopwords')\n",
        "nltk.download('wordnet')\n",
        "from nltk.stem import WordNetLemmatizer\n",
        "from nltk.tokenize import word_tokenize\n",
        "import string\n",
        "from sklearn.model_selection import train_test_split\n",
        "from sklearn.feature_extraction.text import TfidfVectorizer\n",
        "from sklearn.linear_model import LogisticRegression\n",
        "from sklearn.svm import SVC\n",
        "from sklearn.tree import DecisionTreeClassifier\n",
        "from sklearn.model_selection import GridSearchCV\n",
        "from sklearn.metrics import confusion_matrix,accuracy_score,classification_report\n",
        "from sklearn.ensemble import RandomForestClassifier\n",
        "from sklearn.model_selection import RandomizedSearchCV\n",
        "from sklearn.preprocessing import LabelEncoder\n",
        "import warnings\n",
        "warnings.filterwarnings(\"ignore\")\n",
        "from sklearn import metrics"
      ]
    },
    {
      "cell_type": "markdown",
      "source": [
        "## Reading Dataset"
      ],
      "metadata": {
        "id": "FW1o2Ut0JvE0"
      }
    },
    {
      "cell_type": "code",
      "source": [
        "flip_tweets = pd.read_csv(\"Dataset-SA.csv\")\n",
        "flip_tweets.head()"
      ],
      "metadata": {
        "colab": {
          "base_uri": "https://localhost:8080/",
          "height": 293
        },
        "id": "hZMTZpjZjY5E",
        "outputId": "d613eea7-cc6f-4e4c-9227-d997ab3a2751"
      },
      "execution_count": 2,
      "outputs": [
        {
          "output_type": "execute_result",
          "data": {
            "text/plain": [
              "                                        product_name product_price Rate  \\\n",
              "0  Candes 12 L Room/Personal Air Cooler??????(Whi...          3999    5   \n",
              "1  Candes 12 L Room/Personal Air Cooler??????(Whi...          3999    5   \n",
              "2  Candes 12 L Room/Personal Air Cooler??????(Whi...          3999    3   \n",
              "3  Candes 12 L Room/Personal Air Cooler??????(Whi...          3999    1   \n",
              "4  Candes 12 L Room/Personal Air Cooler??????(Whi...          3999    3   \n",
              "\n",
              "            Review                                            Summary  \\\n",
              "0           super!  great cooler excellent air flow and for this p...   \n",
              "1          awesome              best budget 2 fit cooler nice cooling   \n",
              "2             fair  the quality is good but the power of air is de...   \n",
              "3  useless product                  very bad product its a only a fan   \n",
              "4             fair                                      ok ok product   \n",
              "\n",
              "  Sentiment  \n",
              "0  positive  \n",
              "1  positive  \n",
              "2  positive  \n",
              "3  negative  \n",
              "4   neutral  "
            ],
            "text/html": [
              "\n",
              "  <div id=\"df-5bf2b06c-98b8-4b2e-8cae-8d8296082149\" class=\"colab-df-container\">\n",
              "    <div>\n",
              "<style scoped>\n",
              "    .dataframe tbody tr th:only-of-type {\n",
              "        vertical-align: middle;\n",
              "    }\n",
              "\n",
              "    .dataframe tbody tr th {\n",
              "        vertical-align: top;\n",
              "    }\n",
              "\n",
              "    .dataframe thead th {\n",
              "        text-align: right;\n",
              "    }\n",
              "</style>\n",
              "<table border=\"1\" class=\"dataframe\">\n",
              "  <thead>\n",
              "    <tr style=\"text-align: right;\">\n",
              "      <th></th>\n",
              "      <th>product_name</th>\n",
              "      <th>product_price</th>\n",
              "      <th>Rate</th>\n",
              "      <th>Review</th>\n",
              "      <th>Summary</th>\n",
              "      <th>Sentiment</th>\n",
              "    </tr>\n",
              "  </thead>\n",
              "  <tbody>\n",
              "    <tr>\n",
              "      <th>0</th>\n",
              "      <td>Candes 12 L Room/Personal Air Cooler??????(Whi...</td>\n",
              "      <td>3999</td>\n",
              "      <td>5</td>\n",
              "      <td>super!</td>\n",
              "      <td>great cooler excellent air flow and for this p...</td>\n",
              "      <td>positive</td>\n",
              "    </tr>\n",
              "    <tr>\n",
              "      <th>1</th>\n",
              "      <td>Candes 12 L Room/Personal Air Cooler??????(Whi...</td>\n",
              "      <td>3999</td>\n",
              "      <td>5</td>\n",
              "      <td>awesome</td>\n",
              "      <td>best budget 2 fit cooler nice cooling</td>\n",
              "      <td>positive</td>\n",
              "    </tr>\n",
              "    <tr>\n",
              "      <th>2</th>\n",
              "      <td>Candes 12 L Room/Personal Air Cooler??????(Whi...</td>\n",
              "      <td>3999</td>\n",
              "      <td>3</td>\n",
              "      <td>fair</td>\n",
              "      <td>the quality is good but the power of air is de...</td>\n",
              "      <td>positive</td>\n",
              "    </tr>\n",
              "    <tr>\n",
              "      <th>3</th>\n",
              "      <td>Candes 12 L Room/Personal Air Cooler??????(Whi...</td>\n",
              "      <td>3999</td>\n",
              "      <td>1</td>\n",
              "      <td>useless product</td>\n",
              "      <td>very bad product its a only a fan</td>\n",
              "      <td>negative</td>\n",
              "    </tr>\n",
              "    <tr>\n",
              "      <th>4</th>\n",
              "      <td>Candes 12 L Room/Personal Air Cooler??????(Whi...</td>\n",
              "      <td>3999</td>\n",
              "      <td>3</td>\n",
              "      <td>fair</td>\n",
              "      <td>ok ok product</td>\n",
              "      <td>neutral</td>\n",
              "    </tr>\n",
              "  </tbody>\n",
              "</table>\n",
              "</div>\n",
              "    <div class=\"colab-df-buttons\">\n",
              "\n",
              "  <div class=\"colab-df-container\">\n",
              "    <button class=\"colab-df-convert\" onclick=\"convertToInteractive('df-5bf2b06c-98b8-4b2e-8cae-8d8296082149')\"\n",
              "            title=\"Convert this dataframe to an interactive table.\"\n",
              "            style=\"display:none;\">\n",
              "\n",
              "  <svg xmlns=\"http://www.w3.org/2000/svg\" height=\"24px\" viewBox=\"0 -960 960 960\">\n",
              "    <path d=\"M120-120v-720h720v720H120Zm60-500h600v-160H180v160Zm220 220h160v-160H400v160Zm0 220h160v-160H400v160ZM180-400h160v-160H180v160Zm440 0h160v-160H620v160ZM180-180h160v-160H180v160Zm440 0h160v-160H620v160Z\"/>\n",
              "  </svg>\n",
              "    </button>\n",
              "\n",
              "  <style>\n",
              "    .colab-df-container {\n",
              "      display:flex;\n",
              "      gap: 12px;\n",
              "    }\n",
              "\n",
              "    .colab-df-convert {\n",
              "      background-color: #E8F0FE;\n",
              "      border: none;\n",
              "      border-radius: 50%;\n",
              "      cursor: pointer;\n",
              "      display: none;\n",
              "      fill: #1967D2;\n",
              "      height: 32px;\n",
              "      padding: 0 0 0 0;\n",
              "      width: 32px;\n",
              "    }\n",
              "\n",
              "    .colab-df-convert:hover {\n",
              "      background-color: #E2EBFA;\n",
              "      box-shadow: 0px 1px 2px rgba(60, 64, 67, 0.3), 0px 1px 3px 1px rgba(60, 64, 67, 0.15);\n",
              "      fill: #174EA6;\n",
              "    }\n",
              "\n",
              "    .colab-df-buttons div {\n",
              "      margin-bottom: 4px;\n",
              "    }\n",
              "\n",
              "    [theme=dark] .colab-df-convert {\n",
              "      background-color: #3B4455;\n",
              "      fill: #D2E3FC;\n",
              "    }\n",
              "\n",
              "    [theme=dark] .colab-df-convert:hover {\n",
              "      background-color: #434B5C;\n",
              "      box-shadow: 0px 1px 3px 1px rgba(0, 0, 0, 0.15);\n",
              "      filter: drop-shadow(0px 1px 2px rgba(0, 0, 0, 0.3));\n",
              "      fill: #FFFFFF;\n",
              "    }\n",
              "  </style>\n",
              "\n",
              "    <script>\n",
              "      const buttonEl =\n",
              "        document.querySelector('#df-5bf2b06c-98b8-4b2e-8cae-8d8296082149 button.colab-df-convert');\n",
              "      buttonEl.style.display =\n",
              "        google.colab.kernel.accessAllowed ? 'block' : 'none';\n",
              "\n",
              "      async function convertToInteractive(key) {\n",
              "        const element = document.querySelector('#df-5bf2b06c-98b8-4b2e-8cae-8d8296082149');\n",
              "        const dataTable =\n",
              "          await google.colab.kernel.invokeFunction('convertToInteractive',\n",
              "                                                    [key], {});\n",
              "        if (!dataTable) return;\n",
              "\n",
              "        const docLinkHtml = 'Like what you see? Visit the ' +\n",
              "          '<a target=\"_blank\" href=https://colab.research.google.com/notebooks/data_table.ipynb>data table notebook</a>'\n",
              "          + ' to learn more about interactive tables.';\n",
              "        element.innerHTML = '';\n",
              "        dataTable['output_type'] = 'display_data';\n",
              "        await google.colab.output.renderOutput(dataTable, element);\n",
              "        const docLink = document.createElement('div');\n",
              "        docLink.innerHTML = docLinkHtml;\n",
              "        element.appendChild(docLink);\n",
              "      }\n",
              "    </script>\n",
              "  </div>\n",
              "\n",
              "\n",
              "<div id=\"df-8b4d8d9a-c92a-4961-ab17-4f58ec6d00d8\">\n",
              "  <button class=\"colab-df-quickchart\" onclick=\"quickchart('df-8b4d8d9a-c92a-4961-ab17-4f58ec6d00d8')\"\n",
              "            title=\"Suggest charts\"\n",
              "            style=\"display:none;\">\n",
              "\n",
              "<svg xmlns=\"http://www.w3.org/2000/svg\" height=\"24px\"viewBox=\"0 0 24 24\"\n",
              "     width=\"24px\">\n",
              "    <g>\n",
              "        <path d=\"M19 3H5c-1.1 0-2 .9-2 2v14c0 1.1.9 2 2 2h14c1.1 0 2-.9 2-2V5c0-1.1-.9-2-2-2zM9 17H7v-7h2v7zm4 0h-2V7h2v10zm4 0h-2v-4h2v4z\"/>\n",
              "    </g>\n",
              "</svg>\n",
              "  </button>\n",
              "\n",
              "<style>\n",
              "  .colab-df-quickchart {\n",
              "      --bg-color: #E8F0FE;\n",
              "      --fill-color: #1967D2;\n",
              "      --hover-bg-color: #E2EBFA;\n",
              "      --hover-fill-color: #174EA6;\n",
              "      --disabled-fill-color: #AAA;\n",
              "      --disabled-bg-color: #DDD;\n",
              "  }\n",
              "\n",
              "  [theme=dark] .colab-df-quickchart {\n",
              "      --bg-color: #3B4455;\n",
              "      --fill-color: #D2E3FC;\n",
              "      --hover-bg-color: #434B5C;\n",
              "      --hover-fill-color: #FFFFFF;\n",
              "      --disabled-bg-color: #3B4455;\n",
              "      --disabled-fill-color: #666;\n",
              "  }\n",
              "\n",
              "  .colab-df-quickchart {\n",
              "    background-color: var(--bg-color);\n",
              "    border: none;\n",
              "    border-radius: 50%;\n",
              "    cursor: pointer;\n",
              "    display: none;\n",
              "    fill: var(--fill-color);\n",
              "    height: 32px;\n",
              "    padding: 0;\n",
              "    width: 32px;\n",
              "  }\n",
              "\n",
              "  .colab-df-quickchart:hover {\n",
              "    background-color: var(--hover-bg-color);\n",
              "    box-shadow: 0 1px 2px rgba(60, 64, 67, 0.3), 0 1px 3px 1px rgba(60, 64, 67, 0.15);\n",
              "    fill: var(--button-hover-fill-color);\n",
              "  }\n",
              "\n",
              "  .colab-df-quickchart-complete:disabled,\n",
              "  .colab-df-quickchart-complete:disabled:hover {\n",
              "    background-color: var(--disabled-bg-color);\n",
              "    fill: var(--disabled-fill-color);\n",
              "    box-shadow: none;\n",
              "  }\n",
              "\n",
              "  .colab-df-spinner {\n",
              "    border: 2px solid var(--fill-color);\n",
              "    border-color: transparent;\n",
              "    border-bottom-color: var(--fill-color);\n",
              "    animation:\n",
              "      spin 1s steps(1) infinite;\n",
              "  }\n",
              "\n",
              "  @keyframes spin {\n",
              "    0% {\n",
              "      border-color: transparent;\n",
              "      border-bottom-color: var(--fill-color);\n",
              "      border-left-color: var(--fill-color);\n",
              "    }\n",
              "    20% {\n",
              "      border-color: transparent;\n",
              "      border-left-color: var(--fill-color);\n",
              "      border-top-color: var(--fill-color);\n",
              "    }\n",
              "    30% {\n",
              "      border-color: transparent;\n",
              "      border-left-color: var(--fill-color);\n",
              "      border-top-color: var(--fill-color);\n",
              "      border-right-color: var(--fill-color);\n",
              "    }\n",
              "    40% {\n",
              "      border-color: transparent;\n",
              "      border-right-color: var(--fill-color);\n",
              "      border-top-color: var(--fill-color);\n",
              "    }\n",
              "    60% {\n",
              "      border-color: transparent;\n",
              "      border-right-color: var(--fill-color);\n",
              "    }\n",
              "    80% {\n",
              "      border-color: transparent;\n",
              "      border-right-color: var(--fill-color);\n",
              "      border-bottom-color: var(--fill-color);\n",
              "    }\n",
              "    90% {\n",
              "      border-color: transparent;\n",
              "      border-bottom-color: var(--fill-color);\n",
              "    }\n",
              "  }\n",
              "</style>\n",
              "\n",
              "  <script>\n",
              "    async function quickchart(key) {\n",
              "      const quickchartButtonEl =\n",
              "        document.querySelector('#' + key + ' button');\n",
              "      quickchartButtonEl.disabled = true;  // To prevent multiple clicks.\n",
              "      quickchartButtonEl.classList.add('colab-df-spinner');\n",
              "      try {\n",
              "        const charts = await google.colab.kernel.invokeFunction(\n",
              "            'suggestCharts', [key], {});\n",
              "      } catch (error) {\n",
              "        console.error('Error during call to suggestCharts:', error);\n",
              "      }\n",
              "      quickchartButtonEl.classList.remove('colab-df-spinner');\n",
              "      quickchartButtonEl.classList.add('colab-df-quickchart-complete');\n",
              "    }\n",
              "    (() => {\n",
              "      let quickchartButtonEl =\n",
              "        document.querySelector('#df-8b4d8d9a-c92a-4961-ab17-4f58ec6d00d8 button');\n",
              "      quickchartButtonEl.style.display =\n",
              "        google.colab.kernel.accessAllowed ? 'block' : 'none';\n",
              "    })();\n",
              "  </script>\n",
              "</div>\n",
              "    </div>\n",
              "  </div>\n"
            ]
          },
          "metadata": {},
          "execution_count": 2
        }
      ]
    },
    {
      "cell_type": "markdown",
      "source": [
        "checking if the dataset has any null values"
      ],
      "metadata": {
        "id": "LE9M8nV-Jy0Z"
      }
    },
    {
      "cell_type": "code",
      "source": [
        "flip_tweets.isnull().sum()"
      ],
      "metadata": {
        "colab": {
          "base_uri": "https://localhost:8080/"
        },
        "id": "rjdAfydOju_O",
        "outputId": "62c002bd-a00b-4a25-f671-0cf547b4dd43"
      },
      "execution_count": 3,
      "outputs": [
        {
          "output_type": "execute_result",
          "data": {
            "text/plain": [
              "product_name         0\n",
              "product_price        0\n",
              "Rate                 0\n",
              "Review           24664\n",
              "Summary             11\n",
              "Sentiment            0\n",
              "dtype: int64"
            ]
          },
          "metadata": {},
          "execution_count": 3
        }
      ]
    },
    {
      "cell_type": "markdown",
      "source": [
        "24664 data is missing in review column and 11 in the target variable"
      ],
      "metadata": {
        "id": "dOod_r7uJ4k5"
      }
    },
    {
      "cell_type": "code",
      "source": [
        "flip_tweets.info()"
      ],
      "metadata": {
        "colab": {
          "base_uri": "https://localhost:8080/"
        },
        "id": "9yV5aHoRj1qa",
        "outputId": "4b27b806-a78d-469b-8c1b-5f84296fe37e"
      },
      "execution_count": 4,
      "outputs": [
        {
          "output_type": "stream",
          "name": "stdout",
          "text": [
            "<class 'pandas.core.frame.DataFrame'>\n",
            "RangeIndex: 205052 entries, 0 to 205051\n",
            "Data columns (total 6 columns):\n",
            " #   Column         Non-Null Count   Dtype \n",
            "---  ------         --------------   ----- \n",
            " 0   product_name   205052 non-null  object\n",
            " 1   product_price  205052 non-null  object\n",
            " 2   Rate           205052 non-null  object\n",
            " 3   Review         180388 non-null  object\n",
            " 4   Summary        205041 non-null  object\n",
            " 5   Sentiment      205052 non-null  object\n",
            "dtypes: object(6)\n",
            "memory usage: 9.4+ MB\n"
          ]
        }
      ]
    },
    {
      "cell_type": "code",
      "source": [
        "flip_tweets.Sentiment.value_counts()"
      ],
      "metadata": {
        "colab": {
          "base_uri": "https://localhost:8080/"
        },
        "id": "eJ_iQb6Hj6-P",
        "outputId": "d8f970ac-0005-4f1b-f0db-84c44f5782f2"
      },
      "execution_count": 5,
      "outputs": [
        {
          "output_type": "execute_result",
          "data": {
            "text/plain": [
              "positive    166581\n",
              "negative     28232\n",
              "neutral      10239\n",
              "Name: Sentiment, dtype: int64"
            ]
          },
          "metadata": {},
          "execution_count": 5
        }
      ]
    },
    {
      "cell_type": "code",
      "source": [
        "flip_tweets.isnull().sum()/flip_tweets.isnull().count()"
      ],
      "metadata": {
        "colab": {
          "base_uri": "https://localhost:8080/"
        },
        "id": "iblosBtbxoQa",
        "outputId": "6773d997-940a-4ffa-c7bb-f7be2e7cd6d4"
      },
      "execution_count": 6,
      "outputs": [
        {
          "output_type": "execute_result",
          "data": {
            "text/plain": [
              "product_name     0.000000\n",
              "product_price    0.000000\n",
              "Rate             0.000000\n",
              "Review           0.120282\n",
              "Summary          0.000054\n",
              "Sentiment        0.000000\n",
              "dtype: float64"
            ]
          },
          "metadata": {},
          "execution_count": 6
        }
      ]
    },
    {
      "cell_type": "markdown",
      "source": [
        "As only 12% of data is missing from the review column and we don't want to miss any sentiment we will replace the value with mode"
      ],
      "metadata": {
        "id": "CgURwCtWx8mt"
      }
    },
    {
      "cell_type": "code",
      "source": [
        "flip_tweets[flip_tweets[\"Review\"].isnull()]"
      ],
      "metadata": {
        "colab": {
          "base_uri": "https://localhost:8080/",
          "height": 597
        },
        "id": "8-53HcYNys1J",
        "outputId": "e1568b76-9d78-4cb8-c65e-d77446d396de"
      },
      "execution_count": 7,
      "outputs": [
        {
          "output_type": "execute_result",
          "data": {
            "text/plain": [
              "                                             product_name product_price Rate  \\\n",
              "41625   Top - Pyjama Set Thermal For Boys & Girls?????...           365    5   \n",
              "41626   Top - Pyjama Set Thermal For Boys & Girls?????...           365    5   \n",
              "41627   Top - Pyjama Set Thermal For Boys & Girls?????...           365    5   \n",
              "41628   Top - Pyjama Set Thermal For Boys & Girls?????...           365    5   \n",
              "41629   Top - Pyjama Set Thermal For Boys & Girls?????...           365    5   \n",
              "...                                                   ...           ...  ...   \n",
              "113340  Men 9325 Latest Collection Stylish Sports Snea...           299    3   \n",
              "113341  Men 9325 Latest Collection Stylish Sports Snea...           299    5   \n",
              "113342  Men 9325 Latest Collection Stylish Sports Snea...           299    5   \n",
              "113343  Men 9325 Latest Collection Stylish Sports Snea...           299    3   \n",
              "113344  Men 9325 Latest Collection Stylish Sports Snea...           299    1   \n",
              "\n",
              "       Review                                         Summary Sentiment  \n",
              "41625     NaN                                    best product  positive  \n",
              "41626     NaN                                       very good  positive  \n",
              "41627     NaN             very comfortablegood qualitylove it  positive  \n",
              "41628     NaN             very soft and comfortable go for it  positive  \n",
              "41629     NaN  super product quality is vry good tnx flipkart  positive  \n",
              "...       ...                                             ...       ...  \n",
              "113340    NaN                      ok oky hai according prise  positive  \n",
              "113341    NaN                                            nice  positive  \n",
              "113342    NaN                                    nice product  positive  \n",
              "113343    NaN                                            nice  positive  \n",
              "113344    NaN                              very worst product  negative  \n",
              "\n",
              "[24664 rows x 6 columns]"
            ],
            "text/html": [
              "\n",
              "  <div id=\"df-9a2c64f7-4b25-4823-86e7-ff0ac7d54d52\" class=\"colab-df-container\">\n",
              "    <div>\n",
              "<style scoped>\n",
              "    .dataframe tbody tr th:only-of-type {\n",
              "        vertical-align: middle;\n",
              "    }\n",
              "\n",
              "    .dataframe tbody tr th {\n",
              "        vertical-align: top;\n",
              "    }\n",
              "\n",
              "    .dataframe thead th {\n",
              "        text-align: right;\n",
              "    }\n",
              "</style>\n",
              "<table border=\"1\" class=\"dataframe\">\n",
              "  <thead>\n",
              "    <tr style=\"text-align: right;\">\n",
              "      <th></th>\n",
              "      <th>product_name</th>\n",
              "      <th>product_price</th>\n",
              "      <th>Rate</th>\n",
              "      <th>Review</th>\n",
              "      <th>Summary</th>\n",
              "      <th>Sentiment</th>\n",
              "    </tr>\n",
              "  </thead>\n",
              "  <tbody>\n",
              "    <tr>\n",
              "      <th>41625</th>\n",
              "      <td>Top - Pyjama Set Thermal For Boys &amp; Girls?????...</td>\n",
              "      <td>365</td>\n",
              "      <td>5</td>\n",
              "      <td>NaN</td>\n",
              "      <td>best product</td>\n",
              "      <td>positive</td>\n",
              "    </tr>\n",
              "    <tr>\n",
              "      <th>41626</th>\n",
              "      <td>Top - Pyjama Set Thermal For Boys &amp; Girls?????...</td>\n",
              "      <td>365</td>\n",
              "      <td>5</td>\n",
              "      <td>NaN</td>\n",
              "      <td>very good</td>\n",
              "      <td>positive</td>\n",
              "    </tr>\n",
              "    <tr>\n",
              "      <th>41627</th>\n",
              "      <td>Top - Pyjama Set Thermal For Boys &amp; Girls?????...</td>\n",
              "      <td>365</td>\n",
              "      <td>5</td>\n",
              "      <td>NaN</td>\n",
              "      <td>very comfortablegood qualitylove it</td>\n",
              "      <td>positive</td>\n",
              "    </tr>\n",
              "    <tr>\n",
              "      <th>41628</th>\n",
              "      <td>Top - Pyjama Set Thermal For Boys &amp; Girls?????...</td>\n",
              "      <td>365</td>\n",
              "      <td>5</td>\n",
              "      <td>NaN</td>\n",
              "      <td>very soft and comfortable go for it</td>\n",
              "      <td>positive</td>\n",
              "    </tr>\n",
              "    <tr>\n",
              "      <th>41629</th>\n",
              "      <td>Top - Pyjama Set Thermal For Boys &amp; Girls?????...</td>\n",
              "      <td>365</td>\n",
              "      <td>5</td>\n",
              "      <td>NaN</td>\n",
              "      <td>super product quality is vry good tnx flipkart</td>\n",
              "      <td>positive</td>\n",
              "    </tr>\n",
              "    <tr>\n",
              "      <th>...</th>\n",
              "      <td>...</td>\n",
              "      <td>...</td>\n",
              "      <td>...</td>\n",
              "      <td>...</td>\n",
              "      <td>...</td>\n",
              "      <td>...</td>\n",
              "    </tr>\n",
              "    <tr>\n",
              "      <th>113340</th>\n",
              "      <td>Men 9325 Latest Collection Stylish Sports Snea...</td>\n",
              "      <td>299</td>\n",
              "      <td>3</td>\n",
              "      <td>NaN</td>\n",
              "      <td>ok oky hai according prise</td>\n",
              "      <td>positive</td>\n",
              "    </tr>\n",
              "    <tr>\n",
              "      <th>113341</th>\n",
              "      <td>Men 9325 Latest Collection Stylish Sports Snea...</td>\n",
              "      <td>299</td>\n",
              "      <td>5</td>\n",
              "      <td>NaN</td>\n",
              "      <td>nice</td>\n",
              "      <td>positive</td>\n",
              "    </tr>\n",
              "    <tr>\n",
              "      <th>113342</th>\n",
              "      <td>Men 9325 Latest Collection Stylish Sports Snea...</td>\n",
              "      <td>299</td>\n",
              "      <td>5</td>\n",
              "      <td>NaN</td>\n",
              "      <td>nice product</td>\n",
              "      <td>positive</td>\n",
              "    </tr>\n",
              "    <tr>\n",
              "      <th>113343</th>\n",
              "      <td>Men 9325 Latest Collection Stylish Sports Snea...</td>\n",
              "      <td>299</td>\n",
              "      <td>3</td>\n",
              "      <td>NaN</td>\n",
              "      <td>nice</td>\n",
              "      <td>positive</td>\n",
              "    </tr>\n",
              "    <tr>\n",
              "      <th>113344</th>\n",
              "      <td>Men 9325 Latest Collection Stylish Sports Snea...</td>\n",
              "      <td>299</td>\n",
              "      <td>1</td>\n",
              "      <td>NaN</td>\n",
              "      <td>very worst product</td>\n",
              "      <td>negative</td>\n",
              "    </tr>\n",
              "  </tbody>\n",
              "</table>\n",
              "<p>24664 rows × 6 columns</p>\n",
              "</div>\n",
              "    <div class=\"colab-df-buttons\">\n",
              "\n",
              "  <div class=\"colab-df-container\">\n",
              "    <button class=\"colab-df-convert\" onclick=\"convertToInteractive('df-9a2c64f7-4b25-4823-86e7-ff0ac7d54d52')\"\n",
              "            title=\"Convert this dataframe to an interactive table.\"\n",
              "            style=\"display:none;\">\n",
              "\n",
              "  <svg xmlns=\"http://www.w3.org/2000/svg\" height=\"24px\" viewBox=\"0 -960 960 960\">\n",
              "    <path d=\"M120-120v-720h720v720H120Zm60-500h600v-160H180v160Zm220 220h160v-160H400v160Zm0 220h160v-160H400v160ZM180-400h160v-160H180v160Zm440 0h160v-160H620v160ZM180-180h160v-160H180v160Zm440 0h160v-160H620v160Z\"/>\n",
              "  </svg>\n",
              "    </button>\n",
              "\n",
              "  <style>\n",
              "    .colab-df-container {\n",
              "      display:flex;\n",
              "      gap: 12px;\n",
              "    }\n",
              "\n",
              "    .colab-df-convert {\n",
              "      background-color: #E8F0FE;\n",
              "      border: none;\n",
              "      border-radius: 50%;\n",
              "      cursor: pointer;\n",
              "      display: none;\n",
              "      fill: #1967D2;\n",
              "      height: 32px;\n",
              "      padding: 0 0 0 0;\n",
              "      width: 32px;\n",
              "    }\n",
              "\n",
              "    .colab-df-convert:hover {\n",
              "      background-color: #E2EBFA;\n",
              "      box-shadow: 0px 1px 2px rgba(60, 64, 67, 0.3), 0px 1px 3px 1px rgba(60, 64, 67, 0.15);\n",
              "      fill: #174EA6;\n",
              "    }\n",
              "\n",
              "    .colab-df-buttons div {\n",
              "      margin-bottom: 4px;\n",
              "    }\n",
              "\n",
              "    [theme=dark] .colab-df-convert {\n",
              "      background-color: #3B4455;\n",
              "      fill: #D2E3FC;\n",
              "    }\n",
              "\n",
              "    [theme=dark] .colab-df-convert:hover {\n",
              "      background-color: #434B5C;\n",
              "      box-shadow: 0px 1px 3px 1px rgba(0, 0, 0, 0.15);\n",
              "      filter: drop-shadow(0px 1px 2px rgba(0, 0, 0, 0.3));\n",
              "      fill: #FFFFFF;\n",
              "    }\n",
              "  </style>\n",
              "\n",
              "    <script>\n",
              "      const buttonEl =\n",
              "        document.querySelector('#df-9a2c64f7-4b25-4823-86e7-ff0ac7d54d52 button.colab-df-convert');\n",
              "      buttonEl.style.display =\n",
              "        google.colab.kernel.accessAllowed ? 'block' : 'none';\n",
              "\n",
              "      async function convertToInteractive(key) {\n",
              "        const element = document.querySelector('#df-9a2c64f7-4b25-4823-86e7-ff0ac7d54d52');\n",
              "        const dataTable =\n",
              "          await google.colab.kernel.invokeFunction('convertToInteractive',\n",
              "                                                    [key], {});\n",
              "        if (!dataTable) return;\n",
              "\n",
              "        const docLinkHtml = 'Like what you see? Visit the ' +\n",
              "          '<a target=\"_blank\" href=https://colab.research.google.com/notebooks/data_table.ipynb>data table notebook</a>'\n",
              "          + ' to learn more about interactive tables.';\n",
              "        element.innerHTML = '';\n",
              "        dataTable['output_type'] = 'display_data';\n",
              "        await google.colab.output.renderOutput(dataTable, element);\n",
              "        const docLink = document.createElement('div');\n",
              "        docLink.innerHTML = docLinkHtml;\n",
              "        element.appendChild(docLink);\n",
              "      }\n",
              "    </script>\n",
              "  </div>\n",
              "\n",
              "\n",
              "<div id=\"df-5cb83d5c-010a-4a95-9f6a-df4f4f53deef\">\n",
              "  <button class=\"colab-df-quickchart\" onclick=\"quickchart('df-5cb83d5c-010a-4a95-9f6a-df4f4f53deef')\"\n",
              "            title=\"Suggest charts\"\n",
              "            style=\"display:none;\">\n",
              "\n",
              "<svg xmlns=\"http://www.w3.org/2000/svg\" height=\"24px\"viewBox=\"0 0 24 24\"\n",
              "     width=\"24px\">\n",
              "    <g>\n",
              "        <path d=\"M19 3H5c-1.1 0-2 .9-2 2v14c0 1.1.9 2 2 2h14c1.1 0 2-.9 2-2V5c0-1.1-.9-2-2-2zM9 17H7v-7h2v7zm4 0h-2V7h2v10zm4 0h-2v-4h2v4z\"/>\n",
              "    </g>\n",
              "</svg>\n",
              "  </button>\n",
              "\n",
              "<style>\n",
              "  .colab-df-quickchart {\n",
              "      --bg-color: #E8F0FE;\n",
              "      --fill-color: #1967D2;\n",
              "      --hover-bg-color: #E2EBFA;\n",
              "      --hover-fill-color: #174EA6;\n",
              "      --disabled-fill-color: #AAA;\n",
              "      --disabled-bg-color: #DDD;\n",
              "  }\n",
              "\n",
              "  [theme=dark] .colab-df-quickchart {\n",
              "      --bg-color: #3B4455;\n",
              "      --fill-color: #D2E3FC;\n",
              "      --hover-bg-color: #434B5C;\n",
              "      --hover-fill-color: #FFFFFF;\n",
              "      --disabled-bg-color: #3B4455;\n",
              "      --disabled-fill-color: #666;\n",
              "  }\n",
              "\n",
              "  .colab-df-quickchart {\n",
              "    background-color: var(--bg-color);\n",
              "    border: none;\n",
              "    border-radius: 50%;\n",
              "    cursor: pointer;\n",
              "    display: none;\n",
              "    fill: var(--fill-color);\n",
              "    height: 32px;\n",
              "    padding: 0;\n",
              "    width: 32px;\n",
              "  }\n",
              "\n",
              "  .colab-df-quickchart:hover {\n",
              "    background-color: var(--hover-bg-color);\n",
              "    box-shadow: 0 1px 2px rgba(60, 64, 67, 0.3), 0 1px 3px 1px rgba(60, 64, 67, 0.15);\n",
              "    fill: var(--button-hover-fill-color);\n",
              "  }\n",
              "\n",
              "  .colab-df-quickchart-complete:disabled,\n",
              "  .colab-df-quickchart-complete:disabled:hover {\n",
              "    background-color: var(--disabled-bg-color);\n",
              "    fill: var(--disabled-fill-color);\n",
              "    box-shadow: none;\n",
              "  }\n",
              "\n",
              "  .colab-df-spinner {\n",
              "    border: 2px solid var(--fill-color);\n",
              "    border-color: transparent;\n",
              "    border-bottom-color: var(--fill-color);\n",
              "    animation:\n",
              "      spin 1s steps(1) infinite;\n",
              "  }\n",
              "\n",
              "  @keyframes spin {\n",
              "    0% {\n",
              "      border-color: transparent;\n",
              "      border-bottom-color: var(--fill-color);\n",
              "      border-left-color: var(--fill-color);\n",
              "    }\n",
              "    20% {\n",
              "      border-color: transparent;\n",
              "      border-left-color: var(--fill-color);\n",
              "      border-top-color: var(--fill-color);\n",
              "    }\n",
              "    30% {\n",
              "      border-color: transparent;\n",
              "      border-left-color: var(--fill-color);\n",
              "      border-top-color: var(--fill-color);\n",
              "      border-right-color: var(--fill-color);\n",
              "    }\n",
              "    40% {\n",
              "      border-color: transparent;\n",
              "      border-right-color: var(--fill-color);\n",
              "      border-top-color: var(--fill-color);\n",
              "    }\n",
              "    60% {\n",
              "      border-color: transparent;\n",
              "      border-right-color: var(--fill-color);\n",
              "    }\n",
              "    80% {\n",
              "      border-color: transparent;\n",
              "      border-right-color: var(--fill-color);\n",
              "      border-bottom-color: var(--fill-color);\n",
              "    }\n",
              "    90% {\n",
              "      border-color: transparent;\n",
              "      border-bottom-color: var(--fill-color);\n",
              "    }\n",
              "  }\n",
              "</style>\n",
              "\n",
              "  <script>\n",
              "    async function quickchart(key) {\n",
              "      const quickchartButtonEl =\n",
              "        document.querySelector('#' + key + ' button');\n",
              "      quickchartButtonEl.disabled = true;  // To prevent multiple clicks.\n",
              "      quickchartButtonEl.classList.add('colab-df-spinner');\n",
              "      try {\n",
              "        const charts = await google.colab.kernel.invokeFunction(\n",
              "            'suggestCharts', [key], {});\n",
              "      } catch (error) {\n",
              "        console.error('Error during call to suggestCharts:', error);\n",
              "      }\n",
              "      quickchartButtonEl.classList.remove('colab-df-spinner');\n",
              "      quickchartButtonEl.classList.add('colab-df-quickchart-complete');\n",
              "    }\n",
              "    (() => {\n",
              "      let quickchartButtonEl =\n",
              "        document.querySelector('#df-5cb83d5c-010a-4a95-9f6a-df4f4f53deef button');\n",
              "      quickchartButtonEl.style.display =\n",
              "        google.colab.kernel.accessAllowed ? 'block' : 'none';\n",
              "    })();\n",
              "  </script>\n",
              "</div>\n",
              "    </div>\n",
              "  </div>\n"
            ]
          },
          "metadata": {},
          "execution_count": 7
        }
      ]
    },
    {
      "cell_type": "code",
      "source": [
        "flip_tweets[\"Review\"].value_counts()"
      ],
      "metadata": {
        "colab": {
          "base_uri": "https://localhost:8080/"
        },
        "id": "aJUQoZttzKWT",
        "outputId": "1a66ce04-4cfd-451a-c593-fa3c0b28307b"
      },
      "execution_count": 8,
      "outputs": [
        {
          "output_type": "execute_result",
          "data": {
            "text/plain": [
              "wonderful                                     9016\n",
              "not specified                                 8351\n",
              "brilliant                                     5643\n",
              "awesome                                       5636\n",
              "great product                                 5622\n",
              "                                              ... \n",
              "nice to see this product in very less rate       1\n",
              "best deal in market !!                           1\n",
              "amazing good for its price                       1\n",
              "amazing product for its price!!!                 1\n",
              "product looking very nice & strong quality       1\n",
              "Name: Review, Length: 1324, dtype: int64"
            ]
          },
          "metadata": {},
          "execution_count": 8
        }
      ]
    },
    {
      "cell_type": "code",
      "source": [
        "flip_tweets[\"Review\"] = flip_tweets[\"Review\"].fillna(flip_tweets[\"Review\"].mode()[0])\n",
        "flip_tweets.isnull().sum()"
      ],
      "metadata": {
        "colab": {
          "base_uri": "https://localhost:8080/"
        },
        "id": "UKm7QPtm0Oen",
        "outputId": "0d33674c-2a79-4bd8-fc80-078696a68acb"
      },
      "execution_count": 9,
      "outputs": [
        {
          "output_type": "execute_result",
          "data": {
            "text/plain": [
              "product_name      0\n",
              "product_price     0\n",
              "Rate              0\n",
              "Review            0\n",
              "Summary          11\n",
              "Sentiment         0\n",
              "dtype: int64"
            ]
          },
          "metadata": {},
          "execution_count": 9
        }
      ]
    },
    {
      "cell_type": "code",
      "source": [
        "flip_tweets[flip_tweets[\"Summary\"].isnull()]"
      ],
      "metadata": {
        "colab": {
          "base_uri": "https://localhost:8080/",
          "height": 394
        },
        "id": "B5bTTgvM0uEb",
        "outputId": "c7bf7771-cb70-48c9-9e13-abf261a69006"
      },
      "execution_count": 10,
      "outputs": [
        {
          "output_type": "execute_result",
          "data": {
            "text/plain": [
              "                                             product_name product_price Rate  \\\n",
              "11037   SportSoul Cotton Gym & Athletic Abdomen Suppor...           249    4   \n",
              "28417   Lakm?? Eyeconic Kajal Twin Pack??????(Deep Bla...           218    5   \n",
              "36859   Adrenex by Flipkart Big Bang 6 inch x 26.5 inc...           989    5   \n",
              "39838   cello ColourUp Hobby Bag of Assorted Stationer...           449    5   \n",
              "40502   cello ColourUp Hobby Bag of Assorted Stationer...           449    4   \n",
              "47616   Men Casual Brown Artificial Leather Money Clip...           159    5   \n",
              "50559                                          Men Cargos           499    2   \n",
              "79972   HAIR & CARE Triple Blend Damage Repair Non-Sti...           113    5   \n",
              "91051   Infinix 10W Quick Charger combo for Infinx dev...           449    5   \n",
              "95049   Infinix 10W Quick Charger combo for Infinx dev...           449    5   \n",
              "132139  BAJAJ 15 L Storage Water Geyser (Popular Plus ...          5499    4   \n",
              "\n",
              "                      Review Summary Sentiment  \n",
              "11037            good choice     NaN  positive  \n",
              "28417       perfect product!     NaN  positive  \n",
              "36859          great product     NaN  positive  \n",
              "39838       perfect product!     NaN  positive  \n",
              "40502            good choice     NaN  positive  \n",
              "47616              wonderful     NaN  positive  \n",
              "50559              wonderful     NaN   neutral  \n",
              "79972              must buy!     NaN   neutral  \n",
              "91051              wonderful     NaN   neutral  \n",
              "95049              wonderful     NaN   neutral  \n",
              "132139  good quality product     NaN   neutral  "
            ],
            "text/html": [
              "\n",
              "  <div id=\"df-53f21a54-2cf1-4d17-a643-0da3b81129e3\" class=\"colab-df-container\">\n",
              "    <div>\n",
              "<style scoped>\n",
              "    .dataframe tbody tr th:only-of-type {\n",
              "        vertical-align: middle;\n",
              "    }\n",
              "\n",
              "    .dataframe tbody tr th {\n",
              "        vertical-align: top;\n",
              "    }\n",
              "\n",
              "    .dataframe thead th {\n",
              "        text-align: right;\n",
              "    }\n",
              "</style>\n",
              "<table border=\"1\" class=\"dataframe\">\n",
              "  <thead>\n",
              "    <tr style=\"text-align: right;\">\n",
              "      <th></th>\n",
              "      <th>product_name</th>\n",
              "      <th>product_price</th>\n",
              "      <th>Rate</th>\n",
              "      <th>Review</th>\n",
              "      <th>Summary</th>\n",
              "      <th>Sentiment</th>\n",
              "    </tr>\n",
              "  </thead>\n",
              "  <tbody>\n",
              "    <tr>\n",
              "      <th>11037</th>\n",
              "      <td>SportSoul Cotton Gym &amp; Athletic Abdomen Suppor...</td>\n",
              "      <td>249</td>\n",
              "      <td>4</td>\n",
              "      <td>good choice</td>\n",
              "      <td>NaN</td>\n",
              "      <td>positive</td>\n",
              "    </tr>\n",
              "    <tr>\n",
              "      <th>28417</th>\n",
              "      <td>Lakm?? Eyeconic Kajal Twin Pack??????(Deep Bla...</td>\n",
              "      <td>218</td>\n",
              "      <td>5</td>\n",
              "      <td>perfect product!</td>\n",
              "      <td>NaN</td>\n",
              "      <td>positive</td>\n",
              "    </tr>\n",
              "    <tr>\n",
              "      <th>36859</th>\n",
              "      <td>Adrenex by Flipkart Big Bang 6 inch x 26.5 inc...</td>\n",
              "      <td>989</td>\n",
              "      <td>5</td>\n",
              "      <td>great product</td>\n",
              "      <td>NaN</td>\n",
              "      <td>positive</td>\n",
              "    </tr>\n",
              "    <tr>\n",
              "      <th>39838</th>\n",
              "      <td>cello ColourUp Hobby Bag of Assorted Stationer...</td>\n",
              "      <td>449</td>\n",
              "      <td>5</td>\n",
              "      <td>perfect product!</td>\n",
              "      <td>NaN</td>\n",
              "      <td>positive</td>\n",
              "    </tr>\n",
              "    <tr>\n",
              "      <th>40502</th>\n",
              "      <td>cello ColourUp Hobby Bag of Assorted Stationer...</td>\n",
              "      <td>449</td>\n",
              "      <td>4</td>\n",
              "      <td>good choice</td>\n",
              "      <td>NaN</td>\n",
              "      <td>positive</td>\n",
              "    </tr>\n",
              "    <tr>\n",
              "      <th>47616</th>\n",
              "      <td>Men Casual Brown Artificial Leather Money Clip...</td>\n",
              "      <td>159</td>\n",
              "      <td>5</td>\n",
              "      <td>wonderful</td>\n",
              "      <td>NaN</td>\n",
              "      <td>positive</td>\n",
              "    </tr>\n",
              "    <tr>\n",
              "      <th>50559</th>\n",
              "      <td>Men Cargos</td>\n",
              "      <td>499</td>\n",
              "      <td>2</td>\n",
              "      <td>wonderful</td>\n",
              "      <td>NaN</td>\n",
              "      <td>neutral</td>\n",
              "    </tr>\n",
              "    <tr>\n",
              "      <th>79972</th>\n",
              "      <td>HAIR &amp; CARE Triple Blend Damage Repair Non-Sti...</td>\n",
              "      <td>113</td>\n",
              "      <td>5</td>\n",
              "      <td>must buy!</td>\n",
              "      <td>NaN</td>\n",
              "      <td>neutral</td>\n",
              "    </tr>\n",
              "    <tr>\n",
              "      <th>91051</th>\n",
              "      <td>Infinix 10W Quick Charger combo for Infinx dev...</td>\n",
              "      <td>449</td>\n",
              "      <td>5</td>\n",
              "      <td>wonderful</td>\n",
              "      <td>NaN</td>\n",
              "      <td>neutral</td>\n",
              "    </tr>\n",
              "    <tr>\n",
              "      <th>95049</th>\n",
              "      <td>Infinix 10W Quick Charger combo for Infinx dev...</td>\n",
              "      <td>449</td>\n",
              "      <td>5</td>\n",
              "      <td>wonderful</td>\n",
              "      <td>NaN</td>\n",
              "      <td>neutral</td>\n",
              "    </tr>\n",
              "    <tr>\n",
              "      <th>132139</th>\n",
              "      <td>BAJAJ 15 L Storage Water Geyser (Popular Plus ...</td>\n",
              "      <td>5499</td>\n",
              "      <td>4</td>\n",
              "      <td>good quality product</td>\n",
              "      <td>NaN</td>\n",
              "      <td>neutral</td>\n",
              "    </tr>\n",
              "  </tbody>\n",
              "</table>\n",
              "</div>\n",
              "    <div class=\"colab-df-buttons\">\n",
              "\n",
              "  <div class=\"colab-df-container\">\n",
              "    <button class=\"colab-df-convert\" onclick=\"convertToInteractive('df-53f21a54-2cf1-4d17-a643-0da3b81129e3')\"\n",
              "            title=\"Convert this dataframe to an interactive table.\"\n",
              "            style=\"display:none;\">\n",
              "\n",
              "  <svg xmlns=\"http://www.w3.org/2000/svg\" height=\"24px\" viewBox=\"0 -960 960 960\">\n",
              "    <path d=\"M120-120v-720h720v720H120Zm60-500h600v-160H180v160Zm220 220h160v-160H400v160Zm0 220h160v-160H400v160ZM180-400h160v-160H180v160Zm440 0h160v-160H620v160ZM180-180h160v-160H180v160Zm440 0h160v-160H620v160Z\"/>\n",
              "  </svg>\n",
              "    </button>\n",
              "\n",
              "  <style>\n",
              "    .colab-df-container {\n",
              "      display:flex;\n",
              "      gap: 12px;\n",
              "    }\n",
              "\n",
              "    .colab-df-convert {\n",
              "      background-color: #E8F0FE;\n",
              "      border: none;\n",
              "      border-radius: 50%;\n",
              "      cursor: pointer;\n",
              "      display: none;\n",
              "      fill: #1967D2;\n",
              "      height: 32px;\n",
              "      padding: 0 0 0 0;\n",
              "      width: 32px;\n",
              "    }\n",
              "\n",
              "    .colab-df-convert:hover {\n",
              "      background-color: #E2EBFA;\n",
              "      box-shadow: 0px 1px 2px rgba(60, 64, 67, 0.3), 0px 1px 3px 1px rgba(60, 64, 67, 0.15);\n",
              "      fill: #174EA6;\n",
              "    }\n",
              "\n",
              "    .colab-df-buttons div {\n",
              "      margin-bottom: 4px;\n",
              "    }\n",
              "\n",
              "    [theme=dark] .colab-df-convert {\n",
              "      background-color: #3B4455;\n",
              "      fill: #D2E3FC;\n",
              "    }\n",
              "\n",
              "    [theme=dark] .colab-df-convert:hover {\n",
              "      background-color: #434B5C;\n",
              "      box-shadow: 0px 1px 3px 1px rgba(0, 0, 0, 0.15);\n",
              "      filter: drop-shadow(0px 1px 2px rgba(0, 0, 0, 0.3));\n",
              "      fill: #FFFFFF;\n",
              "    }\n",
              "  </style>\n",
              "\n",
              "    <script>\n",
              "      const buttonEl =\n",
              "        document.querySelector('#df-53f21a54-2cf1-4d17-a643-0da3b81129e3 button.colab-df-convert');\n",
              "      buttonEl.style.display =\n",
              "        google.colab.kernel.accessAllowed ? 'block' : 'none';\n",
              "\n",
              "      async function convertToInteractive(key) {\n",
              "        const element = document.querySelector('#df-53f21a54-2cf1-4d17-a643-0da3b81129e3');\n",
              "        const dataTable =\n",
              "          await google.colab.kernel.invokeFunction('convertToInteractive',\n",
              "                                                    [key], {});\n",
              "        if (!dataTable) return;\n",
              "\n",
              "        const docLinkHtml = 'Like what you see? Visit the ' +\n",
              "          '<a target=\"_blank\" href=https://colab.research.google.com/notebooks/data_table.ipynb>data table notebook</a>'\n",
              "          + ' to learn more about interactive tables.';\n",
              "        element.innerHTML = '';\n",
              "        dataTable['output_type'] = 'display_data';\n",
              "        await google.colab.output.renderOutput(dataTable, element);\n",
              "        const docLink = document.createElement('div');\n",
              "        docLink.innerHTML = docLinkHtml;\n",
              "        element.appendChild(docLink);\n",
              "      }\n",
              "    </script>\n",
              "  </div>\n",
              "\n",
              "\n",
              "<div id=\"df-2be62080-6b98-4fa4-a089-1fdcd124c1aa\">\n",
              "  <button class=\"colab-df-quickchart\" onclick=\"quickchart('df-2be62080-6b98-4fa4-a089-1fdcd124c1aa')\"\n",
              "            title=\"Suggest charts\"\n",
              "            style=\"display:none;\">\n",
              "\n",
              "<svg xmlns=\"http://www.w3.org/2000/svg\" height=\"24px\"viewBox=\"0 0 24 24\"\n",
              "     width=\"24px\">\n",
              "    <g>\n",
              "        <path d=\"M19 3H5c-1.1 0-2 .9-2 2v14c0 1.1.9 2 2 2h14c1.1 0 2-.9 2-2V5c0-1.1-.9-2-2-2zM9 17H7v-7h2v7zm4 0h-2V7h2v10zm4 0h-2v-4h2v4z\"/>\n",
              "    </g>\n",
              "</svg>\n",
              "  </button>\n",
              "\n",
              "<style>\n",
              "  .colab-df-quickchart {\n",
              "      --bg-color: #E8F0FE;\n",
              "      --fill-color: #1967D2;\n",
              "      --hover-bg-color: #E2EBFA;\n",
              "      --hover-fill-color: #174EA6;\n",
              "      --disabled-fill-color: #AAA;\n",
              "      --disabled-bg-color: #DDD;\n",
              "  }\n",
              "\n",
              "  [theme=dark] .colab-df-quickchart {\n",
              "      --bg-color: #3B4455;\n",
              "      --fill-color: #D2E3FC;\n",
              "      --hover-bg-color: #434B5C;\n",
              "      --hover-fill-color: #FFFFFF;\n",
              "      --disabled-bg-color: #3B4455;\n",
              "      --disabled-fill-color: #666;\n",
              "  }\n",
              "\n",
              "  .colab-df-quickchart {\n",
              "    background-color: var(--bg-color);\n",
              "    border: none;\n",
              "    border-radius: 50%;\n",
              "    cursor: pointer;\n",
              "    display: none;\n",
              "    fill: var(--fill-color);\n",
              "    height: 32px;\n",
              "    padding: 0;\n",
              "    width: 32px;\n",
              "  }\n",
              "\n",
              "  .colab-df-quickchart:hover {\n",
              "    background-color: var(--hover-bg-color);\n",
              "    box-shadow: 0 1px 2px rgba(60, 64, 67, 0.3), 0 1px 3px 1px rgba(60, 64, 67, 0.15);\n",
              "    fill: var(--button-hover-fill-color);\n",
              "  }\n",
              "\n",
              "  .colab-df-quickchart-complete:disabled,\n",
              "  .colab-df-quickchart-complete:disabled:hover {\n",
              "    background-color: var(--disabled-bg-color);\n",
              "    fill: var(--disabled-fill-color);\n",
              "    box-shadow: none;\n",
              "  }\n",
              "\n",
              "  .colab-df-spinner {\n",
              "    border: 2px solid var(--fill-color);\n",
              "    border-color: transparent;\n",
              "    border-bottom-color: var(--fill-color);\n",
              "    animation:\n",
              "      spin 1s steps(1) infinite;\n",
              "  }\n",
              "\n",
              "  @keyframes spin {\n",
              "    0% {\n",
              "      border-color: transparent;\n",
              "      border-bottom-color: var(--fill-color);\n",
              "      border-left-color: var(--fill-color);\n",
              "    }\n",
              "    20% {\n",
              "      border-color: transparent;\n",
              "      border-left-color: var(--fill-color);\n",
              "      border-top-color: var(--fill-color);\n",
              "    }\n",
              "    30% {\n",
              "      border-color: transparent;\n",
              "      border-left-color: var(--fill-color);\n",
              "      border-top-color: var(--fill-color);\n",
              "      border-right-color: var(--fill-color);\n",
              "    }\n",
              "    40% {\n",
              "      border-color: transparent;\n",
              "      border-right-color: var(--fill-color);\n",
              "      border-top-color: var(--fill-color);\n",
              "    }\n",
              "    60% {\n",
              "      border-color: transparent;\n",
              "      border-right-color: var(--fill-color);\n",
              "    }\n",
              "    80% {\n",
              "      border-color: transparent;\n",
              "      border-right-color: var(--fill-color);\n",
              "      border-bottom-color: var(--fill-color);\n",
              "    }\n",
              "    90% {\n",
              "      border-color: transparent;\n",
              "      border-bottom-color: var(--fill-color);\n",
              "    }\n",
              "  }\n",
              "</style>\n",
              "\n",
              "  <script>\n",
              "    async function quickchart(key) {\n",
              "      const quickchartButtonEl =\n",
              "        document.querySelector('#' + key + ' button');\n",
              "      quickchartButtonEl.disabled = true;  // To prevent multiple clicks.\n",
              "      quickchartButtonEl.classList.add('colab-df-spinner');\n",
              "      try {\n",
              "        const charts = await google.colab.kernel.invokeFunction(\n",
              "            'suggestCharts', [key], {});\n",
              "      } catch (error) {\n",
              "        console.error('Error during call to suggestCharts:', error);\n",
              "      }\n",
              "      quickchartButtonEl.classList.remove('colab-df-spinner');\n",
              "      quickchartButtonEl.classList.add('colab-df-quickchart-complete');\n",
              "    }\n",
              "    (() => {\n",
              "      let quickchartButtonEl =\n",
              "        document.querySelector('#df-2be62080-6b98-4fa4-a089-1fdcd124c1aa button');\n",
              "      quickchartButtonEl.style.display =\n",
              "        google.colab.kernel.accessAllowed ? 'block' : 'none';\n",
              "    })();\n",
              "  </script>\n",
              "</div>\n",
              "    </div>\n",
              "  </div>\n"
            ]
          },
          "metadata": {},
          "execution_count": 10
        }
      ]
    },
    {
      "cell_type": "code",
      "source": [
        "flip_tweets = flip_tweets.dropna()\n",
        "flip_tweets.isnull().sum()"
      ],
      "metadata": {
        "colab": {
          "base_uri": "https://localhost:8080/"
        },
        "id": "7l2v2W4709wP",
        "outputId": "a8d26e25-41e2-47c6-c830-1d6785e518d2"
      },
      "execution_count": 11,
      "outputs": [
        {
          "output_type": "execute_result",
          "data": {
            "text/plain": [
              "product_name     0\n",
              "product_price    0\n",
              "Rate             0\n",
              "Review           0\n",
              "Summary          0\n",
              "Sentiment        0\n",
              "dtype: int64"
            ]
          },
          "metadata": {},
          "execution_count": 11
        }
      ]
    },
    {
      "cell_type": "code",
      "source": [
        "sns.countplot(x = \"Sentiment\",data = flip_tweets)\n",
        "pt.show()"
      ],
      "metadata": {
        "colab": {
          "base_uri": "https://localhost:8080/",
          "height": 449
        },
        "id": "tD6UOuUfkAC4",
        "outputId": "45934cee-bdca-4efb-dddc-dcfe46109699"
      },
      "execution_count": 12,
      "outputs": [
        {
          "output_type": "display_data",
          "data": {
            "text/plain": [
              "<Figure size 640x480 with 1 Axes>"
            ],
            "image/png": "[encoded data removed]"
          },
          "metadata": {}
        }
      ]
    },
    {
      "cell_type": "markdown",
      "source": [
        "As we can wee the data is imbalanced"
      ],
      "metadata": {
        "id": "nAK7LF83Nz4_"
      }
    },
    {
      "cell_type": "code",
      "source": [
        "flip_tweets = flip_tweets.groupby(\"Sentiment\").apply(lambda x: x.sample(flip_tweets[\"Sentiment\"].value_counts().min()))\n"
      ],
      "metadata": {
        "id": "vwcwoaZk0YTy"
      },
      "execution_count": 13,
      "outputs": []
    },
    {
      "cell_type": "code",
      "source": [
        "sns.countplot(x = flip_tweets[\"Sentiment\"])\n",
        "pt.show()"
      ],
      "metadata": {
        "colab": {
          "base_uri": "https://localhost:8080/",
          "height": 449
        },
        "id": "fPmMDWBsSqzf",
        "outputId": "a2535926-ab1e-406f-9d74-285b44099d38"
      },
      "execution_count": 14,
      "outputs": [
        {
          "output_type": "display_data",
          "data": {
            "text/plain": [
              "<Figure size 640x480 with 1 Axes>"
            ],
            "image/png": "[encoded data removed]"
          },
          "metadata": {}
        }
      ]
    },
    {
      "cell_type": "code",
      "source": [
        "flip_tweets.shape"
      ],
      "metadata": {
        "colab": {
          "base_uri": "https://localhost:8080/"
        },
        "id": "e0BZQSl1UDvF",
        "outputId": "9aee19ac-7b61-429a-b7ee-49d6440a3a09"
      },
      "execution_count": 15,
      "outputs": [
        {
          "output_type": "execute_result",
          "data": {
            "text/plain": [
              "(30702, 6)"
            ]
          },
          "metadata": {},
          "execution_count": 15
        }
      ]
    },
    {
      "cell_type": "code",
      "source": [
        "lb = LabelEncoder()\n",
        "flip_tweets[\"Sentiment\"] = lb.fit_transform(flip_tweets[\"Sentiment\"])\n",
        "flip_tweets.head()"
      ],
      "metadata": {
        "colab": {
          "base_uri": "https://localhost:8080/",
          "height": 324
        },
        "id": "lskjdx82dd9f",
        "outputId": "12c0a534-7f91-4bdd-ae2a-3c1ed4e2b131"
      },
      "execution_count": 16,
      "outputs": [
        {
          "output_type": "execute_result",
          "data": {
            "text/plain": [
              "                                                       product_name  \\\n",
              "Sentiment                                                             \n",
              "negative  46815   Men Casual Brown Artificial Leather Wallet - M...   \n",
              "          167475       JustandKrafts 75 L Blue Laundry BasketCotton   \n",
              "          56690          Women Regular Fit Black Georgette Trousers   \n",
              "          26520   Glun Water Quality Purity Tester 0-990 PPM Dig...   \n",
              "          123758  PHILIPS MMS8085B/94 Convertible 80 W Bluetooth...   \n",
              "\n",
              "                 product_price Rate          Review  \\\n",
              "Sentiment                                             \n",
              "negative  46815            199    2       wonderful   \n",
              "          167475           298    2     bad quality   \n",
              "          56690            559    2       wonderful   \n",
              "          26520            199    1  unsatisfactory   \n",
              "          123758          6999    4      delightful   \n",
              "\n",
              "                                                            Summary  Sentiment  \n",
              "Sentiment                                                                       \n",
              "negative  46815                                the product not good          0  \n",
              "          167475          not sturdy lookwise good inside cardboard          0  \n",
              "          56690   material of the pants is thin doesnt look good...          0  \n",
              "          26520                                  worst product ever          0  \n",
              "          123758  product is absolutely good but quality of remo...          0  "
            ],
            "text/html": [
              "\n",
              "  <div id=\"df-bacb0b02-06fc-4f4b-a957-8e59f2f72eb7\" class=\"colab-df-container\">\n",
              "    <div>\n",
              "<style scoped>\n",
              "    .dataframe tbody tr th:only-of-type {\n",
              "        vertical-align: middle;\n",
              "    }\n",
              "\n",
              "    .dataframe tbody tr th {\n",
              "        vertical-align: top;\n",
              "    }\n",
              "\n",
              "    .dataframe thead th {\n",
              "        text-align: right;\n",
              "    }\n",
              "</style>\n",
              "<table border=\"1\" class=\"dataframe\">\n",
              "  <thead>\n",
              "    <tr style=\"text-align: right;\">\n",
              "      <th></th>\n",
              "      <th></th>\n",
              "      <th>product_name</th>\n",
              "      <th>product_price</th>\n",
              "      <th>Rate</th>\n",
              "      <th>Review</th>\n",
              "      <th>Summary</th>\n",
              "      <th>Sentiment</th>\n",
              "    </tr>\n",
              "    <tr>\n",
              "      <th>Sentiment</th>\n",
              "      <th></th>\n",
              "      <th></th>\n",
              "      <th></th>\n",
              "      <th></th>\n",
              "      <th></th>\n",
              "      <th></th>\n",
              "      <th></th>\n",
              "    </tr>\n",
              "  </thead>\n",
              "  <tbody>\n",
              "    <tr>\n",
              "      <th rowspan=\"5\" valign=\"top\">negative</th>\n",
              "      <th>46815</th>\n",
              "      <td>Men Casual Brown Artificial Leather Wallet - M...</td>\n",
              "      <td>199</td>\n",
              "      <td>2</td>\n",
              "      <td>wonderful</td>\n",
              "      <td>the product not good</td>\n",
              "      <td>0</td>\n",
              "    </tr>\n",
              "    <tr>\n",
              "      <th>167475</th>\n",
              "      <td>JustandKrafts 75 L Blue Laundry BasketCotton</td>\n",
              "      <td>298</td>\n",
              "      <td>2</td>\n",
              "      <td>bad quality</td>\n",
              "      <td>not sturdy lookwise good inside cardboard</td>\n",
              "      <td>0</td>\n",
              "    </tr>\n",
              "    <tr>\n",
              "      <th>56690</th>\n",
              "      <td>Women Regular Fit Black Georgette Trousers</td>\n",
              "      <td>559</td>\n",
              "      <td>2</td>\n",
              "      <td>wonderful</td>\n",
              "      <td>material of the pants is thin doesnt look good...</td>\n",
              "      <td>0</td>\n",
              "    </tr>\n",
              "    <tr>\n",
              "      <th>26520</th>\n",
              "      <td>Glun Water Quality Purity Tester 0-990 PPM Dig...</td>\n",
              "      <td>199</td>\n",
              "      <td>1</td>\n",
              "      <td>unsatisfactory</td>\n",
              "      <td>worst product ever</td>\n",
              "      <td>0</td>\n",
              "    </tr>\n",
              "    <tr>\n",
              "      <th>123758</th>\n",
              "      <td>PHILIPS MMS8085B/94 Convertible 80 W Bluetooth...</td>\n",
              "      <td>6999</td>\n",
              "      <td>4</td>\n",
              "      <td>delightful</td>\n",
              "      <td>product is absolutely good but quality of remo...</td>\n",
              "      <td>0</td>\n",
              "    </tr>\n",
              "  </tbody>\n",
              "</table>\n",
              "</div>\n",
              "    <div class=\"colab-df-buttons\">\n",
              "\n",
              "  <div class=\"colab-df-container\">\n",
              "    <button class=\"colab-df-convert\" onclick=\"convertToInteractive('df-bacb0b02-06fc-4f4b-a957-8e59f2f72eb7')\"\n",
              "            title=\"Convert this dataframe to an interactive table.\"\n",
              "            style=\"display:none;\">\n",
              "\n",
              "  <svg xmlns=\"http://www.w3.org/2000/svg\" height=\"24px\" viewBox=\"0 -960 960 960\">\n",
              "    <path d=\"M120-120v-720h720v720H120Zm60-500h600v-160H180v160Zm220 220h160v-160H400v160Zm0 220h160v-160H400v160ZM180-400h160v-160H180v160Zm440 0h160v-160H620v160ZM180-180h160v-160H180v160Zm440 0h160v-160H620v160Z\"/>\n",
              "  </svg>\n",
              "    </button>\n",
              "\n",
              "  <style>\n",
              "    .colab-df-container {\n",
              "      display:flex;\n",
              "      gap: 12px;\n",
              "    }\n",
              "\n",
              "    .colab-df-convert {\n",
              "      background-color: #E8F0FE;\n",
              "      border: none;\n",
              "      border-radius: 50%;\n",
              "      cursor: pointer;\n",
              "      display: none;\n",
              "      fill: #1967D2;\n",
              "      height: 32px;\n",
              "      padding: 0 0 0 0;\n",
              "      width: 32px;\n",
              "    }\n",
              "\n",
              "    .colab-df-convert:hover {\n",
              "      background-color: #E2EBFA;\n",
              "      box-shadow: 0px 1px 2px rgba(60, 64, 67, 0.3), 0px 1px 3px 1px rgba(60, 64, 67, 0.15);\n",
              "      fill: #174EA6;\n",
              "    }\n",
              "\n",
              "    .colab-df-buttons div {\n",
              "      margin-bottom: 4px;\n",
              "    }\n",
              "\n",
              "    [theme=dark] .colab-df-convert {\n",
              "      background-color: #3B4455;\n",
              "      fill: #D2E3FC;\n",
              "    }\n",
              "\n",
              "    [theme=dark] .colab-df-convert:hover {\n",
              "      background-color: #434B5C;\n",
              "      box-shadow: 0px 1px 3px 1px rgba(0, 0, 0, 0.15);\n",
              "      filter: drop-shadow(0px 1px 2px rgba(0, 0, 0, 0.3));\n",
              "      fill: #FFFFFF;\n",
              "    }\n",
              "  </style>\n",
              "\n",
              "    <script>\n",
              "      const buttonEl =\n",
              "        document.querySelector('#df-bacb0b02-06fc-4f4b-a957-8e59f2f72eb7 button.colab-df-convert');\n",
              "      buttonEl.style.display =\n",
              "        google.colab.kernel.accessAllowed ? 'block' : 'none';\n",
              "\n",
              "      async function convertToInteractive(key) {\n",
              "        const element = document.querySelector('#df-bacb0b02-06fc-4f4b-a957-8e59f2f72eb7');\n",
              "        const dataTable =\n",
              "          await google.colab.kernel.invokeFunction('convertToInteractive',\n",
              "                                                    [key], {});\n",
              "        if (!dataTable) return;\n",
              "\n",
              "        const docLinkHtml = 'Like what you see? Visit the ' +\n",
              "          '<a target=\"_blank\" href=https://colab.research.google.com/notebooks/data_table.ipynb>data table notebook</a>'\n",
              "          + ' to learn more about interactive tables.';\n",
              "        element.innerHTML = '';\n",
              "        dataTable['output_type'] = 'display_data';\n",
              "        await google.colab.output.renderOutput(dataTable, element);\n",
              "        const docLink = document.createElement('div');\n",
              "        docLink.innerHTML = docLinkHtml;\n",
              "        element.appendChild(docLink);\n",
              "      }\n",
              "    </script>\n",
              "  </div>\n",
              "\n",
              "\n",
              "<div id=\"df-be19989e-3fdd-4840-8c94-dcf357d6b32b\">\n",
              "  <button class=\"colab-df-quickchart\" onclick=\"quickchart('df-be19989e-3fdd-4840-8c94-dcf357d6b32b')\"\n",
              "            title=\"Suggest charts\"\n",
              "            style=\"display:none;\">\n",
              "\n",
              "<svg xmlns=\"http://www.w3.org/2000/svg\" height=\"24px\"viewBox=\"0 0 24 24\"\n",
              "     width=\"24px\">\n",
              "    <g>\n",
              "        <path d=\"M19 3H5c-1.1 0-2 .9-2 2v14c0 1.1.9 2 2 2h14c1.1 0 2-.9 2-2V5c0-1.1-.9-2-2-2zM9 17H7v-7h2v7zm4 0h-2V7h2v10zm4 0h-2v-4h2v4z\"/>\n",
              "    </g>\n",
              "</svg>\n",
              "  </button>\n",
              "\n",
              "<style>\n",
              "  .colab-df-quickchart {\n",
              "      --bg-color: #E8F0FE;\n",
              "      --fill-color: #1967D2;\n",
              "      --hover-bg-color: #E2EBFA;\n",
              "      --hover-fill-color: #174EA6;\n",
              "      --disabled-fill-color: #AAA;\n",
              "      --disabled-bg-color: #DDD;\n",
              "  }\n",
              "\n",
              "  [theme=dark] .colab-df-quickchart {\n",
              "      --bg-color: #3B4455;\n",
              "      --fill-color: #D2E3FC;\n",
              "      --hover-bg-color: #434B5C;\n",
              "      --hover-fill-color: #FFFFFF;\n",
              "      --disabled-bg-color: #3B4455;\n",
              "      --disabled-fill-color: #666;\n",
              "  }\n",
              "\n",
              "  .colab-df-quickchart {\n",
              "    background-color: var(--bg-color);\n",
              "    border: none;\n",
              "    border-radius: 50%;\n",
              "    cursor: pointer;\n",
              "    display: none;\n",
              "    fill: var(--fill-color);\n",
              "    height: 32px;\n",
              "    padding: 0;\n",
              "    width: 32px;\n",
              "  }\n",
              "\n",
              "  .colab-df-quickchart:hover {\n",
              "    background-color: var(--hover-bg-color);\n",
              "    box-shadow: 0 1px 2px rgba(60, 64, 67, 0.3), 0 1px 3px 1px rgba(60, 64, 67, 0.15);\n",
              "    fill: var(--button-hover-fill-color);\n",
              "  }\n",
              "\n",
              "  .colab-df-quickchart-complete:disabled,\n",
              "  .colab-df-quickchart-complete:disabled:hover {\n",
              "    background-color: var(--disabled-bg-color);\n",
              "    fill: var(--disabled-fill-color);\n",
              "    box-shadow: none;\n",
              "  }\n",
              "\n",
              "  .colab-df-spinner {\n",
              "    border: 2px solid var(--fill-color);\n",
              "    border-color: transparent;\n",
              "    border-bottom-color: var(--fill-color);\n",
              "    animation:\n",
              "      spin 1s steps(1) infinite;\n",
              "  }\n",
              "\n",
              "  @keyframes spin {\n",
              "    0% {\n",
              "      border-color: transparent;\n",
              "      border-bottom-color: var(--fill-color);\n",
              "      border-left-color: var(--fill-color);\n",
              "    }\n",
              "    20% {\n",
              "      border-color: transparent;\n",
              "      border-left-color: var(--fill-color);\n",
              "      border-top-color: var(--fill-color);\n",
              "    }\n",
              "    30% {\n",
              "      border-color: transparent;\n",
              "      border-left-color: var(--fill-color);\n",
              "      border-top-color: var(--fill-color);\n",
              "      border-right-color: var(--fill-color);\n",
              "    }\n",
              "    40% {\n",
              "      border-color: transparent;\n",
              "      border-right-color: var(--fill-color);\n",
              "      border-top-color: var(--fill-color);\n",
              "    }\n",
              "    60% {\n",
              "      border-color: transparent;\n",
              "      border-right-color: var(--fill-color);\n",
              "    }\n",
              "    80% {\n",
              "      border-color: transparent;\n",
              "      border-right-color: var(--fill-color);\n",
              "      border-bottom-color: var(--fill-color);\n",
              "    }\n",
              "    90% {\n",
              "      border-color: transparent;\n",
              "      border-bottom-color: var(--fill-color);\n",
              "    }\n",
              "  }\n",
              "</style>\n",
              "\n",
              "  <script>\n",
              "    async function quickchart(key) {\n",
              "      const quickchartButtonEl =\n",
              "        document.querySelector('#' + key + ' button');\n",
              "      quickchartButtonEl.disabled = true;  // To prevent multiple clicks.\n",
              "      quickchartButtonEl.classList.add('colab-df-spinner');\n",
              "      try {\n",
              "        const charts = await google.colab.kernel.invokeFunction(\n",
              "            'suggestCharts', [key], {});\n",
              "      } catch (error) {\n",
              "        console.error('Error during call to suggestCharts:', error);\n",
              "      }\n",
              "      quickchartButtonEl.classList.remove('colab-df-spinner');\n",
              "      quickchartButtonEl.classList.add('colab-df-quickchart-complete');\n",
              "    }\n",
              "    (() => {\n",
              "      let quickchartButtonEl =\n",
              "        document.querySelector('#df-be19989e-3fdd-4840-8c94-dcf357d6b32b button');\n",
              "      quickchartButtonEl.style.display =\n",
              "        google.colab.kernel.accessAllowed ? 'block' : 'none';\n",
              "    })();\n",
              "  </script>\n",
              "</div>\n",
              "    </div>\n",
              "  </div>\n"
            ]
          },
          "metadata": {},
          "execution_count": 16
        }
      ]
    },
    {
      "cell_type": "code",
      "source": [
        "flip_tweets[\"Summary\"] = flip_tweets[\"Summary\"].str.replace('[{}]'.format(string.punctuation),'')\n",
        "flip_tweets.head()\n"
      ],
      "metadata": {
        "colab": {
          "base_uri": "https://localhost:8080/",
          "height": 324
        },
        "id": "Q_SoNO2E0Bf1",
        "outputId": "e1069c26-39f2-4b65-ec60-735d0ed6215e"
      },
      "execution_count": 17,
      "outputs": [
        {
          "output_type": "execute_result",
          "data": {
            "text/plain": [
              "                                                       product_name  \\\n",
              "Sentiment                                                             \n",
              "negative  46815   Men Casual Brown Artificial Leather Wallet - M...   \n",
              "          167475       JustandKrafts 75 L Blue Laundry BasketCotton   \n",
              "          56690          Women Regular Fit Black Georgette Trousers   \n",
              "          26520   Glun Water Quality Purity Tester 0-990 PPM Dig...   \n",
              "          123758  PHILIPS MMS8085B/94 Convertible 80 W Bluetooth...   \n",
              "\n",
              "                 product_price Rate          Review  \\\n",
              "Sentiment                                             \n",
              "negative  46815            199    2       wonderful   \n",
              "          167475           298    2     bad quality   \n",
              "          56690            559    2       wonderful   \n",
              "          26520            199    1  unsatisfactory   \n",
              "          123758          6999    4      delightful   \n",
              "\n",
              "                                                            Summary  Sentiment  \n",
              "Sentiment                                                                       \n",
              "negative  46815                                the product not good          0  \n",
              "          167475          not sturdy lookwise good inside cardboard          0  \n",
              "          56690   material of the pants is thin doesnt look good...          0  \n",
              "          26520                                  worst product ever          0  \n",
              "          123758  product is absolutely good but quality of remo...          0  "
            ],
            "text/html": [
              "\n",
              "  <div id=\"df-68bd91d8-f078-4ce3-ac41-487fed5a87d8\" class=\"colab-df-container\">\n",
              "    <div>\n",
              "<style scoped>\n",
              "    .dataframe tbody tr th:only-of-type {\n",
              "        vertical-align: middle;\n",
              "    }\n",
              "\n",
              "    .dataframe tbody tr th {\n",
              "        vertical-align: top;\n",
              "    }\n",
              "\n",
              "    .dataframe thead th {\n",
              "        text-align: right;\n",
              "    }\n",
              "</style>\n",
              "<table border=\"1\" class=\"dataframe\">\n",
              "  <thead>\n",
              "    <tr style=\"text-align: right;\">\n",
              "      <th></th>\n",
              "      <th></th>\n",
              "      <th>product_name</th>\n",
              "      <th>product_price</th>\n",
              "      <th>Rate</th>\n",
              "      <th>Review</th>\n",
              "      <th>Summary</th>\n",
              "      <th>Sentiment</th>\n",
              "    </tr>\n",
              "    <tr>\n",
              "      <th>Sentiment</th>\n",
              "      <th></th>\n",
              "      <th></th>\n",
              "      <th></th>\n",
              "      <th></th>\n",
              "      <th></th>\n",
              "      <th></th>\n",
              "      <th></th>\n",
              "    </tr>\n",
              "  </thead>\n",
              "  <tbody>\n",
              "    <tr>\n",
              "      <th rowspan=\"5\" valign=\"top\">negative</th>\n",
              "      <th>46815</th>\n",
              "      <td>Men Casual Brown Artificial Leather Wallet - M...</td>\n",
              "      <td>199</td>\n",
              "      <td>2</td>\n",
              "      <td>wonderful</td>\n",
              "      <td>the product not good</td>\n",
              "      <td>0</td>\n",
              "    </tr>\n",
              "    <tr>\n",
              "      <th>167475</th>\n",
              "      <td>JustandKrafts 75 L Blue Laundry BasketCotton</td>\n",
              "      <td>298</td>\n",
              "      <td>2</td>\n",
              "      <td>bad quality</td>\n",
              "      <td>not sturdy lookwise good inside cardboard</td>\n",
              "      <td>0</td>\n",
              "    </tr>\n",
              "    <tr>\n",
              "      <th>56690</th>\n",
              "      <td>Women Regular Fit Black Georgette Trousers</td>\n",
              "      <td>559</td>\n",
              "      <td>2</td>\n",
              "      <td>wonderful</td>\n",
              "      <td>material of the pants is thin doesnt look good...</td>\n",
              "      <td>0</td>\n",
              "    </tr>\n",
              "    <tr>\n",
              "      <th>26520</th>\n",
              "      <td>Glun Water Quality Purity Tester 0-990 PPM Dig...</td>\n",
              "      <td>199</td>\n",
              "      <td>1</td>\n",
              "      <td>unsatisfactory</td>\n",
              "      <td>worst product ever</td>\n",
              "      <td>0</td>\n",
              "    </tr>\n",
              "    <tr>\n",
              "      <th>123758</th>\n",
              "      <td>PHILIPS MMS8085B/94 Convertible 80 W Bluetooth...</td>\n",
              "      <td>6999</td>\n",
              "      <td>4</td>\n",
              "      <td>delightful</td>\n",
              "      <td>product is absolutely good but quality of remo...</td>\n",
              "      <td>0</td>\n",
              "    </tr>\n",
              "  </tbody>\n",
              "</table>\n",
              "</div>\n",
              "    <div class=\"colab-df-buttons\">\n",
              "\n",
              "  <div class=\"colab-df-container\">\n",
              "    <button class=\"colab-df-convert\" onclick=\"convertToInteractive('df-68bd91d8-f078-4ce3-ac41-487fed5a87d8')\"\n",
              "            title=\"Convert this dataframe to an interactive table.\"\n",
              "            style=\"display:none;\">\n",
              "\n",
              "  <svg xmlns=\"http://www.w3.org/2000/svg\" height=\"24px\" viewBox=\"0 -960 960 960\">\n",
              "    <path d=\"M120-120v-720h720v720H120Zm60-500h600v-160H180v160Zm220 220h160v-160H400v160Zm0 220h160v-160H400v160ZM180-400h160v-160H180v160Zm440 0h160v-160H620v160ZM180-180h160v-160H180v160Zm440 0h160v-160H620v160Z\"/>\n",
              "  </svg>\n",
              "    </button>\n",
              "\n",
              "  <style>\n",
              "    .colab-df-container {\n",
              "      display:flex;\n",
              "      gap: 12px;\n",
              "    }\n",
              "\n",
              "    .colab-df-convert {\n",
              "      background-color: #E8F0FE;\n",
              "      border: none;\n",
              "      border-radius: 50%;\n",
              "      cursor: pointer;\n",
              "      display: none;\n",
              "      fill: #1967D2;\n",
              "      height: 32px;\n",
              "      padding: 0 0 0 0;\n",
              "      width: 32px;\n",
              "    }\n",
              "\n",
              "    .colab-df-convert:hover {\n",
              "      background-color: #E2EBFA;\n",
              "      box-shadow: 0px 1px 2px rgba(60, 64, 67, 0.3), 0px 1px 3px 1px rgba(60, 64, 67, 0.15);\n",
              "      fill: #174EA6;\n",
              "    }\n",
              "\n",
              "    .colab-df-buttons div {\n",
              "      margin-bottom: 4px;\n",
              "    }\n",
              "\n",
              "    [theme=dark] .colab-df-convert {\n",
              "      background-color: #3B4455;\n",
              "      fill: #D2E3FC;\n",
              "    }\n",
              "\n",
              "    [theme=dark] .colab-df-convert:hover {\n",
              "      background-color: #434B5C;\n",
              "      box-shadow: 0px 1px 3px 1px rgba(0, 0, 0, 0.15);\n",
              "      filter: drop-shadow(0px 1px 2px rgba(0, 0, 0, 0.3));\n",
              "      fill: #FFFFFF;\n",
              "    }\n",
              "  </style>\n",
              "\n",
              "    <script>\n",
              "      const buttonEl =\n",
              "        document.querySelector('#df-68bd91d8-f078-4ce3-ac41-487fed5a87d8 button.colab-df-convert');\n",
              "      buttonEl.style.display =\n",
              "        google.colab.kernel.accessAllowed ? 'block' : 'none';\n",
              "\n",
              "      async function convertToInteractive(key) {\n",
              "        const element = document.querySelector('#df-68bd91d8-f078-4ce3-ac41-487fed5a87d8');\n",
              "        const dataTable =\n",
              "          await google.colab.kernel.invokeFunction('convertToInteractive',\n",
              "                                                    [key], {});\n",
              "        if (!dataTable) return;\n",
              "\n",
              "        const docLinkHtml = 'Like what you see? Visit the ' +\n",
              "          '<a target=\"_blank\" href=https://colab.research.google.com/notebooks/data_table.ipynb>data table notebook</a>'\n",
              "          + ' to learn more about interactive tables.';\n",
              "        element.innerHTML = '';\n",
              "        dataTable['output_type'] = 'display_data';\n",
              "        await google.colab.output.renderOutput(dataTable, element);\n",
              "        const docLink = document.createElement('div');\n",
              "        docLink.innerHTML = docLinkHtml;\n",
              "        element.appendChild(docLink);\n",
              "      }\n",
              "    </script>\n",
              "  </div>\n",
              "\n",
              "\n",
              "<div id=\"df-5fd7dbef-926f-46ab-a502-fd9c7400856e\">\n",
              "  <button class=\"colab-df-quickchart\" onclick=\"quickchart('df-5fd7dbef-926f-46ab-a502-fd9c7400856e')\"\n",
              "            title=\"Suggest charts\"\n",
              "            style=\"display:none;\">\n",
              "\n",
              "<svg xmlns=\"http://www.w3.org/2000/svg\" height=\"24px\"viewBox=\"0 0 24 24\"\n",
              "     width=\"24px\">\n",
              "    <g>\n",
              "        <path d=\"M19 3H5c-1.1 0-2 .9-2 2v14c0 1.1.9 2 2 2h14c1.1 0 2-.9 2-2V5c0-1.1-.9-2-2-2zM9 17H7v-7h2v7zm4 0h-2V7h2v10zm4 0h-2v-4h2v4z\"/>\n",
              "    </g>\n",
              "</svg>\n",
              "  </button>\n",
              "\n",
              "<style>\n",
              "  .colab-df-quickchart {\n",
              "      --bg-color: #E8F0FE;\n",
              "      --fill-color: #1967D2;\n",
              "      --hover-bg-color: #E2EBFA;\n",
              "      --hover-fill-color: #174EA6;\n",
              "      --disabled-fill-color: #AAA;\n",
              "      --disabled-bg-color: #DDD;\n",
              "  }\n",
              "\n",
              "  [theme=dark] .colab-df-quickchart {\n",
              "      --bg-color: #3B4455;\n",
              "      --fill-color: #D2E3FC;\n",
              "      --hover-bg-color: #434B5C;\n",
              "      --hover-fill-color: #FFFFFF;\n",
              "      --disabled-bg-color: #3B4455;\n",
              "      --disabled-fill-color: #666;\n",
              "  }\n",
              "\n",
              "  .colab-df-quickchart {\n",
              "    background-color: var(--bg-color);\n",
              "    border: none;\n",
              "    border-radius: 50%;\n",
              "    cursor: pointer;\n",
              "    display: none;\n",
              "    fill: var(--fill-color);\n",
              "    height: 32px;\n",
              "    padding: 0;\n",
              "    width: 32px;\n",
              "  }\n",
              "\n",
              "  .colab-df-quickchart:hover {\n",
              "    background-color: var(--hover-bg-color);\n",
              "    box-shadow: 0 1px 2px rgba(60, 64, 67, 0.3), 0 1px 3px 1px rgba(60, 64, 67, 0.15);\n",
              "    fill: var(--button-hover-fill-color);\n",
              "  }\n",
              "\n",
              "  .colab-df-quickchart-complete:disabled,\n",
              "  .colab-df-quickchart-complete:disabled:hover {\n",
              "    background-color: var(--disabled-bg-color);\n",
              "    fill: var(--disabled-fill-color);\n",
              "    box-shadow: none;\n",
              "  }\n",
              "\n",
              "  .colab-df-spinner {\n",
              "    border: 2px solid var(--fill-color);\n",
              "    border-color: transparent;\n",
              "    border-bottom-color: var(--fill-color);\n",
              "    animation:\n",
              "      spin 1s steps(1) infinite;\n",
              "  }\n",
              "\n",
              "  @keyframes spin {\n",
              "    0% {\n",
              "      border-color: transparent;\n",
              "      border-bottom-color: var(--fill-color);\n",
              "      border-left-color: var(--fill-color);\n",
              "    }\n",
              "    20% {\n",
              "      border-color: transparent;\n",
              "      border-left-color: var(--fill-color);\n",
              "      border-top-color: var(--fill-color);\n",
              "    }\n",
              "    30% {\n",
              "      border-color: transparent;\n",
              "      border-left-color: var(--fill-color);\n",
              "      border-top-color: var(--fill-color);\n",
              "      border-right-color: var(--fill-color);\n",
              "    }\n",
              "    40% {\n",
              "      border-color: transparent;\n",
              "      border-right-color: var(--fill-color);\n",
              "      border-top-color: var(--fill-color);\n",
              "    }\n",
              "    60% {\n",
              "      border-color: transparent;\n",
              "      border-right-color: var(--fill-color);\n",
              "    }\n",
              "    80% {\n",
              "      border-color: transparent;\n",
              "      border-right-color: var(--fill-color);\n",
              "      border-bottom-color: var(--fill-color);\n",
              "    }\n",
              "    90% {\n",
              "      border-color: transparent;\n",
              "      border-bottom-color: var(--fill-color);\n",
              "    }\n",
              "  }\n",
              "</style>\n",
              "\n",
              "  <script>\n",
              "    async function quickchart(key) {\n",
              "      const quickchartButtonEl =\n",
              "        document.querySelector('#' + key + ' button');\n",
              "      quickchartButtonEl.disabled = true;  // To prevent multiple clicks.\n",
              "      quickchartButtonEl.classList.add('colab-df-spinner');\n",
              "      try {\n",
              "        const charts = await google.colab.kernel.invokeFunction(\n",
              "            'suggestCharts', [key], {});\n",
              "      } catch (error) {\n",
              "        console.error('Error during call to suggestCharts:', error);\n",
              "      }\n",
              "      quickchartButtonEl.classList.remove('colab-df-spinner');\n",
              "      quickchartButtonEl.classList.add('colab-df-quickchart-complete');\n",
              "    }\n",
              "    (() => {\n",
              "      let quickchartButtonEl =\n",
              "        document.querySelector('#df-5fd7dbef-926f-46ab-a502-fd9c7400856e button');\n",
              "      quickchartButtonEl.style.display =\n",
              "        google.colab.kernel.accessAllowed ? 'block' : 'none';\n",
              "    })();\n",
              "  </script>\n",
              "</div>\n",
              "    </div>\n",
              "  </div>\n"
            ]
          },
          "metadata": {},
          "execution_count": 17
        }
      ]
    },
    {
      "cell_type": "code",
      "source": [
        "flip_tweets[\"Summary\"] = [word.lower() for word in flip_tweets[\"Summary\"]]\n",
        "flip_tweets.head()\n"
      ],
      "metadata": {
        "colab": {
          "base_uri": "https://localhost:8080/",
          "height": 324
        },
        "id": "fKhGN7X10PuJ",
        "outputId": "c8e20eb4-89c3-44e1-b963-30ffe6aefa87"
      },
      "execution_count": 18,
      "outputs": [
        {
          "output_type": "execute_result",
          "data": {
            "text/plain": [
              "                                                       product_name  \\\n",
              "Sentiment                                                             \n",
              "negative  46815   Men Casual Brown Artificial Leather Wallet - M...   \n",
              "          167475       JustandKrafts 75 L Blue Laundry BasketCotton   \n",
              "          56690          Women Regular Fit Black Georgette Trousers   \n",
              "          26520   Glun Water Quality Purity Tester 0-990 PPM Dig...   \n",
              "          123758  PHILIPS MMS8085B/94 Convertible 80 W Bluetooth...   \n",
              "\n",
              "                 product_price Rate          Review  \\\n",
              "Sentiment                                             \n",
              "negative  46815            199    2       wonderful   \n",
              "          167475           298    2     bad quality   \n",
              "          56690            559    2       wonderful   \n",
              "          26520            199    1  unsatisfactory   \n",
              "          123758          6999    4      delightful   \n",
              "\n",
              "                                                            Summary  Sentiment  \n",
              "Sentiment                                                                       \n",
              "negative  46815                                the product not good          0  \n",
              "          167475          not sturdy lookwise good inside cardboard          0  \n",
              "          56690   material of the pants is thin doesnt look good...          0  \n",
              "          26520                                  worst product ever          0  \n",
              "          123758  product is absolutely good but quality of remo...          0  "
            ],
            "text/html": [
              "\n",
              "  <div id=\"df-c02606c1-6819-449d-8f98-53810ed69134\" class=\"colab-df-container\">\n",
              "    <div>\n",
              "<style scoped>\n",
              "    .dataframe tbody tr th:only-of-type {\n",
              "        vertical-align: middle;\n",
              "    }\n",
              "\n",
              "    .dataframe tbody tr th {\n",
              "        vertical-align: top;\n",
              "    }\n",
              "\n",
              "    .dataframe thead th {\n",
              "        text-align: right;\n",
              "    }\n",
              "</style>\n",
              "<table border=\"1\" class=\"dataframe\">\n",
              "  <thead>\n",
              "    <tr style=\"text-align: right;\">\n",
              "      <th></th>\n",
              "      <th></th>\n",
              "      <th>product_name</th>\n",
              "      <th>product_price</th>\n",
              "      <th>Rate</th>\n",
              "      <th>Review</th>\n",
              "      <th>Summary</th>\n",
              "      <th>Sentiment</th>\n",
              "    </tr>\n",
              "    <tr>\n",
              "      <th>Sentiment</th>\n",
              "      <th></th>\n",
              "      <th></th>\n",
              "      <th></th>\n",
              "      <th></th>\n",
              "      <th></th>\n",
              "      <th></th>\n",
              "      <th></th>\n",
              "    </tr>\n",
              "  </thead>\n",
              "  <tbody>\n",
              "    <tr>\n",
              "      <th rowspan=\"5\" valign=\"top\">negative</th>\n",
              "      <th>46815</th>\n",
              "      <td>Men Casual Brown Artificial Leather Wallet - M...</td>\n",
              "      <td>199</td>\n",
              "      <td>2</td>\n",
              "      <td>wonderful</td>\n",
              "      <td>the product not good</td>\n",
              "      <td>0</td>\n",
              "    </tr>\n",
              "    <tr>\n",
              "      <th>167475</th>\n",
              "      <td>JustandKrafts 75 L Blue Laundry BasketCotton</td>\n",
              "      <td>298</td>\n",
              "      <td>2</td>\n",
              "      <td>bad quality</td>\n",
              "      <td>not sturdy lookwise good inside cardboard</td>\n",
              "      <td>0</td>\n",
              "    </tr>\n",
              "    <tr>\n",
              "      <th>56690</th>\n",
              "      <td>Women Regular Fit Black Georgette Trousers</td>\n",
              "      <td>559</td>\n",
              "      <td>2</td>\n",
              "      <td>wonderful</td>\n",
              "      <td>material of the pants is thin doesnt look good...</td>\n",
              "      <td>0</td>\n",
              "    </tr>\n",
              "    <tr>\n",
              "      <th>26520</th>\n",
              "      <td>Glun Water Quality Purity Tester 0-990 PPM Dig...</td>\n",
              "      <td>199</td>\n",
              "      <td>1</td>\n",
              "      <td>unsatisfactory</td>\n",
              "      <td>worst product ever</td>\n",
              "      <td>0</td>\n",
              "    </tr>\n",
              "    <tr>\n",
              "      <th>123758</th>\n",
              "      <td>PHILIPS MMS8085B/94 Convertible 80 W Bluetooth...</td>\n",
              "      <td>6999</td>\n",
              "      <td>4</td>\n",
              "      <td>delightful</td>\n",
              "      <td>product is absolutely good but quality of remo...</td>\n",
              "      <td>0</td>\n",
              "    </tr>\n",
              "  </tbody>\n",
              "</table>\n",
              "</div>\n",
              "    <div class=\"colab-df-buttons\">\n",
              "\n",
              "  <div class=\"colab-df-container\">\n",
              "    <button class=\"colab-df-convert\" onclick=\"convertToInteractive('df-c02606c1-6819-449d-8f98-53810ed69134')\"\n",
              "            title=\"Convert this dataframe to an interactive table.\"\n",
              "            style=\"display:none;\">\n",
              "\n",
              "  <svg xmlns=\"http://www.w3.org/2000/svg\" height=\"24px\" viewBox=\"0 -960 960 960\">\n",
              "    <path d=\"M120-120v-720h720v720H120Zm60-500h600v-160H180v160Zm220 220h160v-160H400v160Zm0 220h160v-160H400v160ZM180-400h160v-160H180v160Zm440 0h160v-160H620v160ZM180-180h160v-160H180v160Zm440 0h160v-160H620v160Z\"/>\n",
              "  </svg>\n",
              "    </button>\n",
              "\n",
              "  <style>\n",
              "    .colab-df-container {\n",
              "      display:flex;\n",
              "      gap: 12px;\n",
              "    }\n",
              "\n",
              "    .colab-df-convert {\n",
              "      background-color: #E8F0FE;\n",
              "      border: none;\n",
              "      border-radius: 50%;\n",
              "      cursor: pointer;\n",
              "      display: none;\n",
              "      fill: #1967D2;\n",
              "      height: 32px;\n",
              "      padding: 0 0 0 0;\n",
              "      width: 32px;\n",
              "    }\n",
              "\n",
              "    .colab-df-convert:hover {\n",
              "      background-color: #E2EBFA;\n",
              "      box-shadow: 0px 1px 2px rgba(60, 64, 67, 0.3), 0px 1px 3px 1px rgba(60, 64, 67, 0.15);\n",
              "      fill: #174EA6;\n",
              "    }\n",
              "\n",
              "    .colab-df-buttons div {\n",
              "      margin-bottom: 4px;\n",
              "    }\n",
              "\n",
              "    [theme=dark] .colab-df-convert {\n",
              "      background-color: #3B4455;\n",
              "      fill: #D2E3FC;\n",
              "    }\n",
              "\n",
              "    [theme=dark] .colab-df-convert:hover {\n",
              "      background-color: #434B5C;\n",
              "      box-shadow: 0px 1px 3px 1px rgba(0, 0, 0, 0.15);\n",
              "      filter: drop-shadow(0px 1px 2px rgba(0, 0, 0, 0.3));\n",
              "      fill: #FFFFFF;\n",
              "    }\n",
              "  </style>\n",
              "\n",
              "    <script>\n",
              "      const buttonEl =\n",
              "        document.querySelector('#df-c02606c1-6819-449d-8f98-53810ed69134 button.colab-df-convert');\n",
              "      buttonEl.style.display =\n",
              "        google.colab.kernel.accessAllowed ? 'block' : 'none';\n",
              "\n",
              "      async function convertToInteractive(key) {\n",
              "        const element = document.querySelector('#df-c02606c1-6819-449d-8f98-53810ed69134');\n",
              "        const dataTable =\n",
              "          await google.colab.kernel.invokeFunction('convertToInteractive',\n",
              "                                                    [key], {});\n",
              "        if (!dataTable) return;\n",
              "\n",
              "        const docLinkHtml = 'Like what you see? Visit the ' +\n",
              "          '<a target=\"_blank\" href=https://colab.research.google.com/notebooks/data_table.ipynb>data table notebook</a>'\n",
              "          + ' to learn more about interactive tables.';\n",
              "        element.innerHTML = '';\n",
              "        dataTable['output_type'] = 'display_data';\n",
              "        await google.colab.output.renderOutput(dataTable, element);\n",
              "        const docLink = document.createElement('div');\n",
              "        docLink.innerHTML = docLinkHtml;\n",
              "        element.appendChild(docLink);\n",
              "      }\n",
              "    </script>\n",
              "  </div>\n",
              "\n",
              "\n",
              "<div id=\"df-aa887b1c-3770-49e9-833e-d3813156f299\">\n",
              "  <button class=\"colab-df-quickchart\" onclick=\"quickchart('df-aa887b1c-3770-49e9-833e-d3813156f299')\"\n",
              "            title=\"Suggest charts\"\n",
              "            style=\"display:none;\">\n",
              "\n",
              "<svg xmlns=\"http://www.w3.org/2000/svg\" height=\"24px\"viewBox=\"0 0 24 24\"\n",
              "     width=\"24px\">\n",
              "    <g>\n",
              "        <path d=\"M19 3H5c-1.1 0-2 .9-2 2v14c0 1.1.9 2 2 2h14c1.1 0 2-.9 2-2V5c0-1.1-.9-2-2-2zM9 17H7v-7h2v7zm4 0h-2V7h2v10zm4 0h-2v-4h2v4z\"/>\n",
              "    </g>\n",
              "</svg>\n",
              "  </button>\n",
              "\n",
              "<style>\n",
              "  .colab-df-quickchart {\n",
              "      --bg-color: #E8F0FE;\n",
              "      --fill-color: #1967D2;\n",
              "      --hover-bg-color: #E2EBFA;\n",
              "      --hover-fill-color: #174EA6;\n",
              "      --disabled-fill-color: #AAA;\n",
              "      --disabled-bg-color: #DDD;\n",
              "  }\n",
              "\n",
              "  [theme=dark] .colab-df-quickchart {\n",
              "      --bg-color: #3B4455;\n",
              "      --fill-color: #D2E3FC;\n",
              "      --hover-bg-color: #434B5C;\n",
              "      --hover-fill-color: #FFFFFF;\n",
              "      --disabled-bg-color: #3B4455;\n",
              "      --disabled-fill-color: #666;\n",
              "  }\n",
              "\n",
              "  .colab-df-quickchart {\n",
              "    background-color: var(--bg-color);\n",
              "    border: none;\n",
              "    border-radius: 50%;\n",
              "    cursor: pointer;\n",
              "    display: none;\n",
              "    fill: var(--fill-color);\n",
              "    height: 32px;\n",
              "    padding: 0;\n",
              "    width: 32px;\n",
              "  }\n",
              "\n",
              "  .colab-df-quickchart:hover {\n",
              "    background-color: var(--hover-bg-color);\n",
              "    box-shadow: 0 1px 2px rgba(60, 64, 67, 0.3), 0 1px 3px 1px rgba(60, 64, 67, 0.15);\n",
              "    fill: var(--button-hover-fill-color);\n",
              "  }\n",
              "\n",
              "  .colab-df-quickchart-complete:disabled,\n",
              "  .colab-df-quickchart-complete:disabled:hover {\n",
              "    background-color: var(--disabled-bg-color);\n",
              "    fill: var(--disabled-fill-color);\n",
              "    box-shadow: none;\n",
              "  }\n",
              "\n",
              "  .colab-df-spinner {\n",
              "    border: 2px solid var(--fill-color);\n",
              "    border-color: transparent;\n",
              "    border-bottom-color: var(--fill-color);\n",
              "    animation:\n",
              "      spin 1s steps(1) infinite;\n",
              "  }\n",
              "\n",
              "  @keyframes spin {\n",
              "    0% {\n",
              "      border-color: transparent;\n",
              "      border-bottom-color: var(--fill-color);\n",
              "      border-left-color: var(--fill-color);\n",
              "    }\n",
              "    20% {\n",
              "      border-color: transparent;\n",
              "      border-left-color: var(--fill-color);\n",
              "      border-top-color: var(--fill-color);\n",
              "    }\n",
              "    30% {\n",
              "      border-color: transparent;\n",
              "      border-left-color: var(--fill-color);\n",
              "      border-top-color: var(--fill-color);\n",
              "      border-right-color: var(--fill-color);\n",
              "    }\n",
              "    40% {\n",
              "      border-color: transparent;\n",
              "      border-right-color: var(--fill-color);\n",
              "      border-top-color: var(--fill-color);\n",
              "    }\n",
              "    60% {\n",
              "      border-color: transparent;\n",
              "      border-right-color: var(--fill-color);\n",
              "    }\n",
              "    80% {\n",
              "      border-color: transparent;\n",
              "      border-right-color: var(--fill-color);\n",
              "      border-bottom-color: var(--fill-color);\n",
              "    }\n",
              "    90% {\n",
              "      border-color: transparent;\n",
              "      border-bottom-color: var(--fill-color);\n",
              "    }\n",
              "  }\n",
              "</style>\n",
              "\n",
              "  <script>\n",
              "    async function quickchart(key) {\n",
              "      const quickchartButtonEl =\n",
              "        document.querySelector('#' + key + ' button');\n",
              "      quickchartButtonEl.disabled = true;  // To prevent multiple clicks.\n",
              "      quickchartButtonEl.classList.add('colab-df-spinner');\n",
              "      try {\n",
              "        const charts = await google.colab.kernel.invokeFunction(\n",
              "            'suggestCharts', [key], {});\n",
              "      } catch (error) {\n",
              "        console.error('Error during call to suggestCharts:', error);\n",
              "      }\n",
              "      quickchartButtonEl.classList.remove('colab-df-spinner');\n",
              "      quickchartButtonEl.classList.add('colab-df-quickchart-complete');\n",
              "    }\n",
              "    (() => {\n",
              "      let quickchartButtonEl =\n",
              "        document.querySelector('#df-aa887b1c-3770-49e9-833e-d3813156f299 button');\n",
              "      quickchartButtonEl.style.display =\n",
              "        google.colab.kernel.accessAllowed ? 'block' : 'none';\n",
              "    })();\n",
              "  </script>\n",
              "</div>\n",
              "    </div>\n",
              "  </div>\n"
            ]
          },
          "metadata": {},
          "execution_count": 18
        }
      ]
    },
    {
      "cell_type": "code",
      "source": [
        "white_space = nltk.tokenize.WhitespaceTokenizer()\n",
        "lemment = nltk.stem.WordNetLemmatizer()\n",
        "def lemment_text(t):\n",
        "  return [lemment.lemmatize(word) for word in white_space.tokenize(t)]\n",
        "flip_tweets[\"Summary\"] = flip_tweets[\"Summary\"].apply(lemment_text)"
      ],
      "metadata": {
        "id": "3gpuVrZHZWMh"
      },
      "execution_count": 19,
      "outputs": []
    },
    {
      "cell_type": "code",
      "source": [
        "flip_tweets.head()"
      ],
      "metadata": {
        "colab": {
          "base_uri": "https://localhost:8080/",
          "height": 324
        },
        "id": "yZbtKaR1a5c3",
        "outputId": "f9872282-fa9a-47e8-abbc-4eddfcd0a23b"
      },
      "execution_count": 20,
      "outputs": [
        {
          "output_type": "execute_result",
          "data": {
            "text/plain": [
              "                                                       product_name  \\\n",
              "Sentiment                                                             \n",
              "negative  46815   Men Casual Brown Artificial Leather Wallet - M...   \n",
              "          167475       JustandKrafts 75 L Blue Laundry BasketCotton   \n",
              "          56690          Women Regular Fit Black Georgette Trousers   \n",
              "          26520   Glun Water Quality Purity Tester 0-990 PPM Dig...   \n",
              "          123758  PHILIPS MMS8085B/94 Convertible 80 W Bluetooth...   \n",
              "\n",
              "                 product_price Rate          Review  \\\n",
              "Sentiment                                             \n",
              "negative  46815            199    2       wonderful   \n",
              "          167475           298    2     bad quality   \n",
              "          56690            559    2       wonderful   \n",
              "          26520            199    1  unsatisfactory   \n",
              "          123758          6999    4      delightful   \n",
              "\n",
              "                                                            Summary  Sentiment  \n",
              "Sentiment                                                                       \n",
              "negative  46815                           [the, product, not, good]          0  \n",
              "          167475   [not, sturdy, lookwise, good, inside, cardboard]          0  \n",
              "          56690   [material, of, the, pant, is, thin, doesnt, lo...          0  \n",
              "          26520                              [worst, product, ever]          0  \n",
              "          123758  [product, is, absolutely, good, but, quality, ...          0  "
            ],
            "text/html": [
              "\n",
              "  <div id=\"df-dbd30e61-3d21-4b6b-8c27-0d9e68c0b553\" class=\"colab-df-container\">\n",
              "    <div>\n",
              "<style scoped>\n",
              "    .dataframe tbody tr th:only-of-type {\n",
              "        vertical-align: middle;\n",
              "    }\n",
              "\n",
              "    .dataframe tbody tr th {\n",
              "        vertical-align: top;\n",
              "    }\n",
              "\n",
              "    .dataframe thead th {\n",
              "        text-align: right;\n",
              "    }\n",
              "</style>\n",
              "<table border=\"1\" class=\"dataframe\">\n",
              "  <thead>\n",
              "    <tr style=\"text-align: right;\">\n",
              "      <th></th>\n",
              "      <th></th>\n",
              "      <th>product_name</th>\n",
              "      <th>product_price</th>\n",
              "      <th>Rate</th>\n",
              "      <th>Review</th>\n",
              "      <th>Summary</th>\n",
              "      <th>Sentiment</th>\n",
              "    </tr>\n",
              "    <tr>\n",
              "      <th>Sentiment</th>\n",
              "      <th></th>\n",
              "      <th></th>\n",
              "      <th></th>\n",
              "      <th></th>\n",
              "      <th></th>\n",
              "      <th></th>\n",
              "      <th></th>\n",
              "    </tr>\n",
              "  </thead>\n",
              "  <tbody>\n",
              "    <tr>\n",
              "      <th rowspan=\"5\" valign=\"top\">negative</th>\n",
              "      <th>46815</th>\n",
              "      <td>Men Casual Brown Artificial Leather Wallet - M...</td>\n",
              "      <td>199</td>\n",
              "      <td>2</td>\n",
              "      <td>wonderful</td>\n",
              "      <td>[the, product, not, good]</td>\n",
              "      <td>0</td>\n",
              "    </tr>\n",
              "    <tr>\n",
              "      <th>167475</th>\n",
              "      <td>JustandKrafts 75 L Blue Laundry BasketCotton</td>\n",
              "      <td>298</td>\n",
              "      <td>2</td>\n",
              "      <td>bad quality</td>\n",
              "      <td>[not, sturdy, lookwise, good, inside, cardboard]</td>\n",
              "      <td>0</td>\n",
              "    </tr>\n",
              "    <tr>\n",
              "      <th>56690</th>\n",
              "      <td>Women Regular Fit Black Georgette Trousers</td>\n",
              "      <td>559</td>\n",
              "      <td>2</td>\n",
              "      <td>wonderful</td>\n",
              "      <td>[material, of, the, pant, is, thin, doesnt, lo...</td>\n",
              "      <td>0</td>\n",
              "    </tr>\n",
              "    <tr>\n",
              "      <th>26520</th>\n",
              "      <td>Glun Water Quality Purity Tester 0-990 PPM Dig...</td>\n",
              "      <td>199</td>\n",
              "      <td>1</td>\n",
              "      <td>unsatisfactory</td>\n",
              "      <td>[worst, product, ever]</td>\n",
              "      <td>0</td>\n",
              "    </tr>\n",
              "    <tr>\n",
              "      <th>123758</th>\n",
              "      <td>PHILIPS MMS8085B/94 Convertible 80 W Bluetooth...</td>\n",
              "      <td>6999</td>\n",
              "      <td>4</td>\n",
              "      <td>delightful</td>\n",
              "      <td>[product, is, absolutely, good, but, quality, ...</td>\n",
              "      <td>0</td>\n",
              "    </tr>\n",
              "  </tbody>\n",
              "</table>\n",
              "</div>\n",
              "    <div class=\"colab-df-buttons\">\n",
              "\n",
              "  <div class=\"colab-df-container\">\n",
              "    <button class=\"colab-df-convert\" onclick=\"convertToInteractive('df-dbd30e61-3d21-4b6b-8c27-0d9e68c0b553')\"\n",
              "            title=\"Convert this dataframe to an interactive table.\"\n",
              "            style=\"display:none;\">\n",
              "\n",
              "  <svg xmlns=\"http://www.w3.org/2000/svg\" height=\"24px\" viewBox=\"0 -960 960 960\">\n",
              "    <path d=\"M120-120v-720h720v720H120Zm60-500h600v-160H180v160Zm220 220h160v-160H400v160Zm0 220h160v-160H400v160ZM180-400h160v-160H180v160Zm440 0h160v-160H620v160ZM180-180h160v-160H180v160Zm440 0h160v-160H620v160Z\"/>\n",
              "  </svg>\n",
              "    </button>\n",
              "\n",
              "  <style>\n",
              "    .colab-df-container {\n",
              "      display:flex;\n",
              "      gap: 12px;\n",
              "    }\n",
              "\n",
              "    .colab-df-convert {\n",
              "      background-color: #E8F0FE;\n",
              "      border: none;\n",
              "      border-radius: 50%;\n",
              "      cursor: pointer;\n",
              "      display: none;\n",
              "      fill: #1967D2;\n",
              "      height: 32px;\n",
              "      padding: 0 0 0 0;\n",
              "      width: 32px;\n",
              "    }\n",
              "\n",
              "    .colab-df-convert:hover {\n",
              "      background-color: #E2EBFA;\n",
              "      box-shadow: 0px 1px 2px rgba(60, 64, 67, 0.3), 0px 1px 3px 1px rgba(60, 64, 67, 0.15);\n",
              "      fill: #174EA6;\n",
              "    }\n",
              "\n",
              "    .colab-df-buttons div {\n",
              "      margin-bottom: 4px;\n",
              "    }\n",
              "\n",
              "    [theme=dark] .colab-df-convert {\n",
              "      background-color: #3B4455;\n",
              "      fill: #D2E3FC;\n",
              "    }\n",
              "\n",
              "    [theme=dark] .colab-df-convert:hover {\n",
              "      background-color: #434B5C;\n",
              "      box-shadow: 0px 1px 3px 1px rgba(0, 0, 0, 0.15);\n",
              "      filter: drop-shadow(0px 1px 2px rgba(0, 0, 0, 0.3));\n",
              "      fill: #FFFFFF;\n",
              "    }\n",
              "  </style>\n",
              "\n",
              "    <script>\n",
              "      const buttonEl =\n",
              "        document.querySelector('#df-dbd30e61-3d21-4b6b-8c27-0d9e68c0b553 button.colab-df-convert');\n",
              "      buttonEl.style.display =\n",
              "        google.colab.kernel.accessAllowed ? 'block' : 'none';\n",
              "\n",
              "      async function convertToInteractive(key) {\n",
              "        const element = document.querySelector('#df-dbd30e61-3d21-4b6b-8c27-0d9e68c0b553');\n",
              "        const dataTable =\n",
              "          await google.colab.kernel.invokeFunction('convertToInteractive',\n",
              "                                                    [key], {});\n",
              "        if (!dataTable) return;\n",
              "\n",
              "        const docLinkHtml = 'Like what you see? Visit the ' +\n",
              "          '<a target=\"_blank\" href=https://colab.research.google.com/notebooks/data_table.ipynb>data table notebook</a>'\n",
              "          + ' to learn more about interactive tables.';\n",
              "        element.innerHTML = '';\n",
              "        dataTable['output_type'] = 'display_data';\n",
              "        await google.colab.output.renderOutput(dataTable, element);\n",
              "        const docLink = document.createElement('div');\n",
              "        docLink.innerHTML = docLinkHtml;\n",
              "        element.appendChild(docLink);\n",
              "      }\n",
              "    </script>\n",
              "  </div>\n",
              "\n",
              "\n",
              "<div id=\"df-46db3666-83de-4e04-83d3-64411f5c7fc3\">\n",
              "  <button class=\"colab-df-quickchart\" onclick=\"quickchart('df-46db3666-83de-4e04-83d3-64411f5c7fc3')\"\n",
              "            title=\"Suggest charts\"\n",
              "            style=\"display:none;\">\n",
              "\n",
              "<svg xmlns=\"http://www.w3.org/2000/svg\" height=\"24px\"viewBox=\"0 0 24 24\"\n",
              "     width=\"24px\">\n",
              "    <g>\n",
              "        <path d=\"M19 3H5c-1.1 0-2 .9-2 2v14c0 1.1.9 2 2 2h14c1.1 0 2-.9 2-2V5c0-1.1-.9-2-2-2zM9 17H7v-7h2v7zm4 0h-2V7h2v10zm4 0h-2v-4h2v4z\"/>\n",
              "    </g>\n",
              "</svg>\n",
              "  </button>\n",
              "\n",
              "<style>\n",
              "  .colab-df-quickchart {\n",
              "      --bg-color: #E8F0FE;\n",
              "      --fill-color: #1967D2;\n",
              "      --hover-bg-color: #E2EBFA;\n",
              "      --hover-fill-color: #174EA6;\n",
              "      --disabled-fill-color: #AAA;\n",
              "      --disabled-bg-color: #DDD;\n",
              "  }\n",
              "\n",
              "  [theme=dark] .colab-df-quickchart {\n",
              "      --bg-color: #3B4455;\n",
              "      --fill-color: #D2E3FC;\n",
              "      --hover-bg-color: #434B5C;\n",
              "      --hover-fill-color: #FFFFFF;\n",
              "      --disabled-bg-color: #3B4455;\n",
              "      --disabled-fill-color: #666;\n",
              "  }\n",
              "\n",
              "  .colab-df-quickchart {\n",
              "    background-color: var(--bg-color);\n",
              "    border: none;\n",
              "    border-radius: 50%;\n",
              "    cursor: pointer;\n",
              "    display: none;\n",
              "    fill: var(--fill-color);\n",
              "    height: 32px;\n",
              "    padding: 0;\n",
              "    width: 32px;\n",
              "  }\n",
              "\n",
              "  .colab-df-quickchart:hover {\n",
              "    background-color: var(--hover-bg-color);\n",
              "    box-shadow: 0 1px 2px rgba(60, 64, 67, 0.3), 0 1px 3px 1px rgba(60, 64, 67, 0.15);\n",
              "    fill: var(--button-hover-fill-color);\n",
              "  }\n",
              "\n",
              "  .colab-df-quickchart-complete:disabled,\n",
              "  .colab-df-quickchart-complete:disabled:hover {\n",
              "    background-color: var(--disabled-bg-color);\n",
              "    fill: var(--disabled-fill-color);\n",
              "    box-shadow: none;\n",
              "  }\n",
              "\n",
              "  .colab-df-spinner {\n",
              "    border: 2px solid var(--fill-color);\n",
              "    border-color: transparent;\n",
              "    border-bottom-color: var(--fill-color);\n",
              "    animation:\n",
              "      spin 1s steps(1) infinite;\n",
              "  }\n",
              "\n",
              "  @keyframes spin {\n",
              "    0% {\n",
              "      border-color: transparent;\n",
              "      border-bottom-color: var(--fill-color);\n",
              "      border-left-color: var(--fill-color);\n",
              "    }\n",
              "    20% {\n",
              "      border-color: transparent;\n",
              "      border-left-color: var(--fill-color);\n",
              "      border-top-color: var(--fill-color);\n",
              "    }\n",
              "    30% {\n",
              "      border-color: transparent;\n",
              "      border-left-color: var(--fill-color);\n",
              "      border-top-color: var(--fill-color);\n",
              "      border-right-color: var(--fill-color);\n",
              "    }\n",
              "    40% {\n",
              "      border-color: transparent;\n",
              "      border-right-color: var(--fill-color);\n",
              "      border-top-color: var(--fill-color);\n",
              "    }\n",
              "    60% {\n",
              "      border-color: transparent;\n",
              "      border-right-color: var(--fill-color);\n",
              "    }\n",
              "    80% {\n",
              "      border-color: transparent;\n",
              "      border-right-color: var(--fill-color);\n",
              "      border-bottom-color: var(--fill-color);\n",
              "    }\n",
              "    90% {\n",
              "      border-color: transparent;\n",
              "      border-bottom-color: var(--fill-color);\n",
              "    }\n",
              "  }\n",
              "</style>\n",
              "\n",
              "  <script>\n",
              "    async function quickchart(key) {\n",
              "      const quickchartButtonEl =\n",
              "        document.querySelector('#' + key + ' button');\n",
              "      quickchartButtonEl.disabled = true;  // To prevent multiple clicks.\n",
              "      quickchartButtonEl.classList.add('colab-df-spinner');\n",
              "      try {\n",
              "        const charts = await google.colab.kernel.invokeFunction(\n",
              "            'suggestCharts', [key], {});\n",
              "      } catch (error) {\n",
              "        console.error('Error during call to suggestCharts:', error);\n",
              "      }\n",
              "      quickchartButtonEl.classList.remove('colab-df-spinner');\n",
              "      quickchartButtonEl.classList.add('colab-df-quickchart-complete');\n",
              "    }\n",
              "    (() => {\n",
              "      let quickchartButtonEl =\n",
              "        document.querySelector('#df-46db3666-83de-4e04-83d3-64411f5c7fc3 button');\n",
              "      quickchartButtonEl.style.display =\n",
              "        google.colab.kernel.accessAllowed ? 'block' : 'none';\n",
              "    })();\n",
              "  </script>\n",
              "</div>\n",
              "    </div>\n",
              "  </div>\n"
            ]
          },
          "metadata": {},
          "execution_count": 20
        }
      ]
    },
    {
      "cell_type": "code",
      "source": [
        "flip_tweets[\"Summary\"] = flip_tweets[\"Summary\"].apply(lambda x: ' '.join(word for word in x if word not in set(stopwords.words(\"english\")) ))\n",
        "flip_tweets.head()"
      ],
      "metadata": {
        "colab": {
          "base_uri": "https://localhost:8080/",
          "height": 324
        },
        "id": "hMzlHD_T1DQP",
        "outputId": "865464dc-f367-4717-d8b0-d4db2a6ab7e0"
      },
      "execution_count": 21,
      "outputs": [
        {
          "output_type": "execute_result",
          "data": {
            "text/plain": [
              "                                                       product_name  \\\n",
              "Sentiment                                                             \n",
              "negative  46815   Men Casual Brown Artificial Leather Wallet - M...   \n",
              "          167475       JustandKrafts 75 L Blue Laundry BasketCotton   \n",
              "          56690          Women Regular Fit Black Georgette Trousers   \n",
              "          26520   Glun Water Quality Purity Tester 0-990 PPM Dig...   \n",
              "          123758  PHILIPS MMS8085B/94 Convertible 80 W Bluetooth...   \n",
              "\n",
              "                 product_price Rate          Review  \\\n",
              "Sentiment                                             \n",
              "negative  46815            199    2       wonderful   \n",
              "          167475           298    2     bad quality   \n",
              "          56690            559    2       wonderful   \n",
              "          26520            199    1  unsatisfactory   \n",
              "          123758          6999    4      delightful   \n",
              "\n",
              "                                                            Summary  Sentiment  \n",
              "Sentiment                                                                       \n",
              "negative  46815                                        product good          0  \n",
              "          167475              sturdy lookwise good inside cardboard          0  \n",
              "          56690        material pant thin doesnt look good crop top          0  \n",
              "          26520                                  worst product ever          0  \n",
              "          123758  product absolutely good quality remote connect...          0  "
            ],
            "text/html": [
              "\n",
              "  <div id=\"df-1c779d66-f2df-4d64-96f8-fd7a04caca52\" class=\"colab-df-container\">\n",
              "    <div>\n",
              "<style scoped>\n",
              "    .dataframe tbody tr th:only-of-type {\n",
              "        vertical-align: middle;\n",
              "    }\n",
              "\n",
              "    .dataframe tbody tr th {\n",
              "        vertical-align: top;\n",
              "    }\n",
              "\n",
              "    .dataframe thead th {\n",
              "        text-align: right;\n",
              "    }\n",
              "</style>\n",
              "<table border=\"1\" class=\"dataframe\">\n",
              "  <thead>\n",
              "    <tr style=\"text-align: right;\">\n",
              "      <th></th>\n",
              "      <th></th>\n",
              "      <th>product_name</th>\n",
              "      <th>product_price</th>\n",
              "      <th>Rate</th>\n",
              "      <th>Review</th>\n",
              "      <th>Summary</th>\n",
              "      <th>Sentiment</th>\n",
              "    </tr>\n",
              "    <tr>\n",
              "      <th>Sentiment</th>\n",
              "      <th></th>\n",
              "      <th></th>\n",
              "      <th></th>\n",
              "      <th></th>\n",
              "      <th></th>\n",
              "      <th></th>\n",
              "      <th></th>\n",
              "    </tr>\n",
              "  </thead>\n",
              "  <tbody>\n",
              "    <tr>\n",
              "      <th rowspan=\"5\" valign=\"top\">negative</th>\n",
              "      <th>46815</th>\n",
              "      <td>Men Casual Brown Artificial Leather Wallet - M...</td>\n",
              "      <td>199</td>\n",
              "      <td>2</td>\n",
              "      <td>wonderful</td>\n",
              "      <td>product good</td>\n",
              "      <td>0</td>\n",
              "    </tr>\n",
              "    <tr>\n",
              "      <th>167475</th>\n",
              "      <td>JustandKrafts 75 L Blue Laundry BasketCotton</td>\n",
              "      <td>298</td>\n",
              "      <td>2</td>\n",
              "      <td>bad quality</td>\n",
              "      <td>sturdy lookwise good inside cardboard</td>\n",
              "      <td>0</td>\n",
              "    </tr>\n",
              "    <tr>\n",
              "      <th>56690</th>\n",
              "      <td>Women Regular Fit Black Georgette Trousers</td>\n",
              "      <td>559</td>\n",
              "      <td>2</td>\n",
              "      <td>wonderful</td>\n",
              "      <td>material pant thin doesnt look good crop top</td>\n",
              "      <td>0</td>\n",
              "    </tr>\n",
              "    <tr>\n",
              "      <th>26520</th>\n",
              "      <td>Glun Water Quality Purity Tester 0-990 PPM Dig...</td>\n",
              "      <td>199</td>\n",
              "      <td>1</td>\n",
              "      <td>unsatisfactory</td>\n",
              "      <td>worst product ever</td>\n",
              "      <td>0</td>\n",
              "    </tr>\n",
              "    <tr>\n",
              "      <th>123758</th>\n",
              "      <td>PHILIPS MMS8085B/94 Convertible 80 W Bluetooth...</td>\n",
              "      <td>6999</td>\n",
              "      <td>4</td>\n",
              "      <td>delightful</td>\n",
              "      <td>product absolutely good quality remote connect...</td>\n",
              "      <td>0</td>\n",
              "    </tr>\n",
              "  </tbody>\n",
              "</table>\n",
              "</div>\n",
              "    <div class=\"colab-df-buttons\">\n",
              "\n",
              "  <div class=\"colab-df-container\">\n",
              "    <button class=\"colab-df-convert\" onclick=\"convertToInteractive('df-1c779d66-f2df-4d64-96f8-fd7a04caca52')\"\n",
              "            title=\"Convert this dataframe to an interactive table.\"\n",
              "            style=\"display:none;\">\n",
              "\n",
              "  <svg xmlns=\"http://www.w3.org/2000/svg\" height=\"24px\" viewBox=\"0 -960 960 960\">\n",
              "    <path d=\"M120-120v-720h720v720H120Zm60-500h600v-160H180v160Zm220 220h160v-160H400v160Zm0 220h160v-160H400v160ZM180-400h160v-160H180v160Zm440 0h160v-160H620v160ZM180-180h160v-160H180v160Zm440 0h160v-160H620v160Z\"/>\n",
              "  </svg>\n",
              "    </button>\n",
              "\n",
              "  <style>\n",
              "    .colab-df-container {\n",
              "      display:flex;\n",
              "      gap: 12px;\n",
              "    }\n",
              "\n",
              "    .colab-df-convert {\n",
              "      background-color: #E8F0FE;\n",
              "      border: none;\n",
              "      border-radius: 50%;\n",
              "      cursor: pointer;\n",
              "      display: none;\n",
              "      fill: #1967D2;\n",
              "      height: 32px;\n",
              "      padding: 0 0 0 0;\n",
              "      width: 32px;\n",
              "    }\n",
              "\n",
              "    .colab-df-convert:hover {\n",
              "      background-color: #E2EBFA;\n",
              "      box-shadow: 0px 1px 2px rgba(60, 64, 67, 0.3), 0px 1px 3px 1px rgba(60, 64, 67, 0.15);\n",
              "      fill: #174EA6;\n",
              "    }\n",
              "\n",
              "    .colab-df-buttons div {\n",
              "      margin-bottom: 4px;\n",
              "    }\n",
              "\n",
              "    [theme=dark] .colab-df-convert {\n",
              "      background-color: #3B4455;\n",
              "      fill: #D2E3FC;\n",
              "    }\n",
              "\n",
              "    [theme=dark] .colab-df-convert:hover {\n",
              "      background-color: #434B5C;\n",
              "      box-shadow: 0px 1px 3px 1px rgba(0, 0, 0, 0.15);\n",
              "      filter: drop-shadow(0px 1px 2px rgba(0, 0, 0, 0.3));\n",
              "      fill: #FFFFFF;\n",
              "    }\n",
              "  </style>\n",
              "\n",
              "    <script>\n",
              "      const buttonEl =\n",
              "        document.querySelector('#df-1c779d66-f2df-4d64-96f8-fd7a04caca52 button.colab-df-convert');\n",
              "      buttonEl.style.display =\n",
              "        google.colab.kernel.accessAllowed ? 'block' : 'none';\n",
              "\n",
              "      async function convertToInteractive(key) {\n",
              "        const element = document.querySelector('#df-1c779d66-f2df-4d64-96f8-fd7a04caca52');\n",
              "        const dataTable =\n",
              "          await google.colab.kernel.invokeFunction('convertToInteractive',\n",
              "                                                    [key], {});\n",
              "        if (!dataTable) return;\n",
              "\n",
              "        const docLinkHtml = 'Like what you see? Visit the ' +\n",
              "          '<a target=\"_blank\" href=https://colab.research.google.com/notebooks/data_table.ipynb>data table notebook</a>'\n",
              "          + ' to learn more about interactive tables.';\n",
              "        element.innerHTML = '';\n",
              "        dataTable['output_type'] = 'display_data';\n",
              "        await google.colab.output.renderOutput(dataTable, element);\n",
              "        const docLink = document.createElement('div');\n",
              "        docLink.innerHTML = docLinkHtml;\n",
              "        element.appendChild(docLink);\n",
              "      }\n",
              "    </script>\n",
              "  </div>\n",
              "\n",
              "\n",
              "<div id=\"df-0110a555-f486-433b-9c25-ec9a3babc9b0\">\n",
              "  <button class=\"colab-df-quickchart\" onclick=\"quickchart('df-0110a555-f486-433b-9c25-ec9a3babc9b0')\"\n",
              "            title=\"Suggest charts\"\n",
              "            style=\"display:none;\">\n",
              "\n",
              "<svg xmlns=\"http://www.w3.org/2000/svg\" height=\"24px\"viewBox=\"0 0 24 24\"\n",
              "     width=\"24px\">\n",
              "    <g>\n",
              "        <path d=\"M19 3H5c-1.1 0-2 .9-2 2v14c0 1.1.9 2 2 2h14c1.1 0 2-.9 2-2V5c0-1.1-.9-2-2-2zM9 17H7v-7h2v7zm4 0h-2V7h2v10zm4 0h-2v-4h2v4z\"/>\n",
              "    </g>\n",
              "</svg>\n",
              "  </button>\n",
              "\n",
              "<style>\n",
              "  .colab-df-quickchart {\n",
              "      --bg-color: #E8F0FE;\n",
              "      --fill-color: #1967D2;\n",
              "      --hover-bg-color: #E2EBFA;\n",
              "      --hover-fill-color: #174EA6;\n",
              "      --disabled-fill-color: #AAA;\n",
              "      --disabled-bg-color: #DDD;\n",
              "  }\n",
              "\n",
              "  [theme=dark] .colab-df-quickchart {\n",
              "      --bg-color: #3B4455;\n",
              "      --fill-color: #D2E3FC;\n",
              "      --hover-bg-color: #434B5C;\n",
              "      --hover-fill-color: #FFFFFF;\n",
              "      --disabled-bg-color: #3B4455;\n",
              "      --disabled-fill-color: #666;\n",
              "  }\n",
              "\n",
              "  .colab-df-quickchart {\n",
              "    background-color: var(--bg-color);\n",
              "    border: none;\n",
              "    border-radius: 50%;\n",
              "    cursor: pointer;\n",
              "    display: none;\n",
              "    fill: var(--fill-color);\n",
              "    height: 32px;\n",
              "    padding: 0;\n",
              "    width: 32px;\n",
              "  }\n",
              "\n",
              "  .colab-df-quickchart:hover {\n",
              "    background-color: var(--hover-bg-color);\n",
              "    box-shadow: 0 1px 2px rgba(60, 64, 67, 0.3), 0 1px 3px 1px rgba(60, 64, 67, 0.15);\n",
              "    fill: var(--button-hover-fill-color);\n",
              "  }\n",
              "\n",
              "  .colab-df-quickchart-complete:disabled,\n",
              "  .colab-df-quickchart-complete:disabled:hover {\n",
              "    background-color: var(--disabled-bg-color);\n",
              "    fill: var(--disabled-fill-color);\n",
              "    box-shadow: none;\n",
              "  }\n",
              "\n",
              "  .colab-df-spinner {\n",
              "    border: 2px solid var(--fill-color);\n",
              "    border-color: transparent;\n",
              "    border-bottom-color: var(--fill-color);\n",
              "    animation:\n",
              "      spin 1s steps(1) infinite;\n",
              "  }\n",
              "\n",
              "  @keyframes spin {\n",
              "    0% {\n",
              "      border-color: transparent;\n",
              "      border-bottom-color: var(--fill-color);\n",
              "      border-left-color: var(--fill-color);\n",
              "    }\n",
              "    20% {\n",
              "      border-color: transparent;\n",
              "      border-left-color: var(--fill-color);\n",
              "      border-top-color: var(--fill-color);\n",
              "    }\n",
              "    30% {\n",
              "      border-color: transparent;\n",
              "      border-left-color: var(--fill-color);\n",
              "      border-top-color: var(--fill-color);\n",
              "      border-right-color: var(--fill-color);\n",
              "    }\n",
              "    40% {\n",
              "      border-color: transparent;\n",
              "      border-right-color: var(--fill-color);\n",
              "      border-top-color: var(--fill-color);\n",
              "    }\n",
              "    60% {\n",
              "      border-color: transparent;\n",
              "      border-right-color: var(--fill-color);\n",
              "    }\n",
              "    80% {\n",
              "      border-color: transparent;\n",
              "      border-right-color: var(--fill-color);\n",
              "      border-bottom-color: var(--fill-color);\n",
              "    }\n",
              "    90% {\n",
              "      border-color: transparent;\n",
              "      border-bottom-color: var(--fill-color);\n",
              "    }\n",
              "  }\n",
              "</style>\n",
              "\n",
              "  <script>\n",
              "    async function quickchart(key) {\n",
              "      const quickchartButtonEl =\n",
              "        document.querySelector('#' + key + ' button');\n",
              "      quickchartButtonEl.disabled = true;  // To prevent multiple clicks.\n",
              "      quickchartButtonEl.classList.add('colab-df-spinner');\n",
              "      try {\n",
              "        const charts = await google.colab.kernel.invokeFunction(\n",
              "            'suggestCharts', [key], {});\n",
              "      } catch (error) {\n",
              "        console.error('Error during call to suggestCharts:', error);\n",
              "      }\n",
              "      quickchartButtonEl.classList.remove('colab-df-spinner');\n",
              "      quickchartButtonEl.classList.add('colab-df-quickchart-complete');\n",
              "    }\n",
              "    (() => {\n",
              "      let quickchartButtonEl =\n",
              "        document.querySelector('#df-0110a555-f486-433b-9c25-ec9a3babc9b0 button');\n",
              "      quickchartButtonEl.style.display =\n",
              "        google.colab.kernel.accessAllowed ? 'block' : 'none';\n",
              "    })();\n",
              "  </script>\n",
              "</div>\n",
              "    </div>\n",
              "  </div>\n"
            ]
          },
          "metadata": {},
          "execution_count": 21
        }
      ]
    },
    {
      "cell_type": "code",
      "source": [
        "X = flip_tweets[\"Summary\"]\n",
        "y = flip_tweets[\"Sentiment\"]\n",
        "X_train,X_test,y_train,y_test = train_test_split(X,y,test_size=0.2)\n",
        "X_train,X_validation,y_train,y_validation = train_test_split(X_train,y_train,test_size=0.2)"
      ],
      "metadata": {
        "id": "c1-_T9RcMfxO"
      },
      "execution_count": 22,
      "outputs": []
    },
    {
      "cell_type": "code",
      "source": [
        "print(X_train.shape)\n",
        "print(X_validation.shape)\n",
        "print(X_test.shape)"
      ],
      "metadata": {
        "colab": {
          "base_uri": "https://localhost:8080/"
        },
        "id": "weg_LbMKGYHV",
        "outputId": "ad61e7be-f5fd-4ec5-9416-39d1353732a8"
      },
      "execution_count": 23,
      "outputs": [
        {
          "output_type": "stream",
          "name": "stdout",
          "text": [
            "(19648,)\n",
            "(4913,)\n",
            "(6141,)\n"
          ]
        }
      ]
    },
    {
      "cell_type": "code",
      "source": [
        "TFvector = TfidfVectorizer(analyzer = \"word\")\n",
        "X_train_tf = TFvector.fit_transform(X_train)\n",
        "X_valid_tf = TFvector.transform(X_validation)\n",
        "X_test_tf = TFvector.transform(X_test)"
      ],
      "metadata": {
        "id": "3hH-nFH3NMdy"
      },
      "execution_count": 24,
      "outputs": []
    },
    {
      "cell_type": "code",
      "source": [
        "\n",
        "lg = LogisticRegression()\n",
        "lg.fit(X_train_tf,y_train)\n",
        "lg_predict = lg.predict(X_valid_tf)\n",
        "conf_log = confusion_matrix(y_validation,lg_predict)\n",
        "log_dis = metrics.ConfusionMatrixDisplay(confusion_matrix = conf_log,display_labels=[\"Positive\",\"Negative\",\"Neutral\"])\n",
        "log_dis.plot(cmap = \"OrRd\")\n",
        "pt.show()"
      ],
      "metadata": {
        "id": "2QQt9O-1TKib",
        "colab": {
          "base_uri": "https://localhost:8080/",
          "height": 451
        },
        "outputId": "3863300a-82b6-465b-c5a4-748a7f2cff86"
      },
      "execution_count": 25,
      "outputs": [
        {
          "output_type": "display_data",
          "data": {
            "text/plain": [
              "<Figure size 640x480 with 2 Axes>"
            ],
            "image/png": "[encoded data removed]"
          },
          "metadata": {}
        }
      ]
    },
    {
      "cell_type": "code",
      "source": [
        "print(accuracy_score(y_validation,lg_predict))"
      ],
      "metadata": {
        "colab": {
          "base_uri": "https://localhost:8080/"
        },
        "id": "quiQUyKh0z2l",
        "outputId": "5a62a137-410d-4a3b-9cff-9aba2ffbde7d"
      },
      "execution_count": 26,
      "outputs": [
        {
          "output_type": "stream",
          "name": "stdout",
          "text": [
            "0.7769183798086708\n"
          ]
        }
      ]
    },
    {
      "cell_type": "code",
      "source": [
        "print(classification_report(y_validation,lg_predict))"
      ],
      "metadata": {
        "colab": {
          "base_uri": "https://localhost:8080/"
        },
        "id": "7IW6z2Sm7J2X",
        "outputId": "e8e1e876-09b1-4264-8d21-954ca5afe84e"
      },
      "execution_count": 27,
      "outputs": [
        {
          "output_type": "stream",
          "name": "stdout",
          "text": [
            "              precision    recall  f1-score   support\n",
            "\n",
            "           0       0.77      0.77      0.77      1641\n",
            "           1       0.74      0.72      0.73      1581\n",
            "           2       0.81      0.84      0.83      1691\n",
            "\n",
            "    accuracy                           0.78      4913\n",
            "   macro avg       0.78      0.78      0.78      4913\n",
            "weighted avg       0.78      0.78      0.78      4913\n",
            "\n"
          ]
        }
      ]
    },
    {
      "cell_type": "code",
      "source": [
        "svc = SVC(kernel='linear')\n",
        "svc.fit(X_train_tf,y_train)\n",
        "svc_predict = svc.predict(X_valid_tf)\n",
        "svc_con = confusion_matrix(y_validation,svc_predict)\n",
        "svc_dis = metrics.ConfusionMatrixDisplay(confusion_matrix = svc_con,display_labels=[\"Positive\",\"Negative\",\"Netural\"])\n",
        "svc_dis.plot(cmap = \"OrRd\")\n",
        "pt.show()"
      ],
      "metadata": {
        "colab": {
          "base_uri": "https://localhost:8080/",
          "height": 450
        },
        "id": "aQHYOB1y1My4",
        "outputId": "51f880a3-97bc-4461-eed9-6972dfb34322"
      },
      "execution_count": 28,
      "outputs": [
        {
          "output_type": "display_data",
          "data": {
            "text/plain": [
              "<Figure size 640x480 with 2 Axes>"
            ],
            "image/png": "[encoded data removed]"
          },
          "metadata": {}
        }
      ]
    },
    {
      "cell_type": "code",
      "source": [
        "print(accuracy_score(y_validation,svc_predict))"
      ],
      "metadata": {
        "colab": {
          "base_uri": "https://localhost:8080/"
        },
        "id": "gOod1_Ez3C9t",
        "outputId": "3f54f543-373c-4865-840b-8c9b774bc39b"
      },
      "execution_count": 29,
      "outputs": [
        {
          "output_type": "stream",
          "name": "stdout",
          "text": [
            "0.7689802564624466\n"
          ]
        }
      ]
    },
    {
      "cell_type": "code",
      "source": [
        "print(classification_report(y_validation,svc_predict))"
      ],
      "metadata": {
        "colab": {
          "base_uri": "https://localhost:8080/"
        },
        "id": "I5LnIAM67P_C",
        "outputId": "d45ebf0c-0990-4c15-8f93-c8b163d89e89"
      },
      "execution_count": 30,
      "outputs": [
        {
          "output_type": "stream",
          "name": "stdout",
          "text": [
            "              precision    recall  f1-score   support\n",
            "\n",
            "           0       0.76      0.75      0.75      1641\n",
            "           1       0.73      0.72      0.73      1581\n",
            "           2       0.81      0.84      0.82      1691\n",
            "\n",
            "    accuracy                           0.77      4913\n",
            "   macro avg       0.77      0.77      0.77      4913\n",
            "weighted avg       0.77      0.77      0.77      4913\n",
            "\n"
          ]
        }
      ]
    },
    {
      "cell_type": "code",
      "source": [
        "random_f = RandomForestClassifier()\n",
        "random_f.fit(X_train_tf,y_train)\n",
        "random_predict = random_f.predict(X_valid_tf)\n",
        "ran_con = confusion_matrix(y_validation,random_predict)\n",
        "ran_display = metrics.ConfusionMatrixDisplay(confusion_matrix= ran_con,display_labels = [\"Positive\",\"Negative\",\"Neutral\"])\n",
        "ran_display.plot(cmap = \"OrRd\")\n",
        "pt.show()\n"
      ],
      "metadata": {
        "colab": {
          "base_uri": "https://localhost:8080/",
          "height": 449
        },
        "id": "4kBs1E7I48dY",
        "outputId": "71c4436b-2c04-4afb-fc23-cd53b85ea166"
      },
      "execution_count": 31,
      "outputs": [
        {
          "output_type": "display_data",
          "data": {
            "text/plain": [
              "<Figure size 640x480 with 2 Axes>"
            ],
            "image/png": "[encoded data removed]"
          },
          "metadata": {}
        }
      ]
    },
    {
      "cell_type": "code",
      "source": [
        "print(accuracy_score(y_validation,random_predict))"
      ],
      "metadata": {
        "colab": {
          "base_uri": "https://localhost:8080/"
        },
        "id": "9BAysAyp8waR",
        "outputId": "0c4777fd-c722-4922-f0d5-a39116b25ff9"
      },
      "execution_count": 32,
      "outputs": [
        {
          "output_type": "stream",
          "name": "stdout",
          "text": [
            "0.7761042133116223\n"
          ]
        }
      ]
    },
    {
      "cell_type": "code",
      "source": [
        "print(classification_report(y_validation,random_predict))"
      ],
      "metadata": {
        "colab": {
          "base_uri": "https://localhost:8080/"
        },
        "id": "HwBg_kab7VOE",
        "outputId": "23485046-e04c-44e2-c424-23fb1dd27c48"
      },
      "execution_count": 33,
      "outputs": [
        {
          "output_type": "stream",
          "name": "stdout",
          "text": [
            "              precision    recall  f1-score   support\n",
            "\n",
            "           0       0.78      0.73      0.75      1641\n",
            "           1       0.75      0.73      0.74      1581\n",
            "           2       0.79      0.87      0.83      1691\n",
            "\n",
            "    accuracy                           0.78      4913\n",
            "   macro avg       0.77      0.77      0.77      4913\n",
            "weighted avg       0.78      0.78      0.77      4913\n",
            "\n"
          ]
        }
      ]
    },
    {
      "cell_type": "code",
      "source": [
        "decsion_tree = DecisionTreeClassifier()\n",
        "decsion_tree.fit(X_train_tf,y_train)\n",
        "decision_tree_predict = decsion_tree.predict(X_valid_tf)\n",
        "dec_con = confusion_matrix(y_validation,decision_tree_predict)\n",
        "dec_display = metrics.ConfusionMatrixDisplay(confusion_matrix=dec_con,display_labels=[\"Positive\",\"Negative\",\"Neutral\"])\n",
        "dec_display.plot(cmap = \"OrRd\")\n",
        "pt.show()"
      ],
      "metadata": {
        "id": "2XcBS0LV9Fwh",
        "colab": {
          "base_uri": "https://localhost:8080/",
          "height": 449
        },
        "outputId": "766933e3-eb7b-4251-b645-6f48e95cdc73"
      },
      "execution_count": 34,
      "outputs": [
        {
          "output_type": "display_data",
          "data": {
            "text/plain": [
              "<Figure size 640x480 with 2 Axes>"
            ],
            "image/png": "[encoded data removed]"
          },
          "metadata": {}
        }
      ]
    },
    {
      "cell_type": "code",
      "source": [
        "print(accuracy_score(y_validation,decision_tree_predict))"
      ],
      "metadata": {
        "colab": {
          "base_uri": "https://localhost:8080/"
        },
        "id": "rVyt2RtkB-is",
        "outputId": "93042822-d04f-4b1d-edbb-3deed5eaf413"
      },
      "execution_count": 35,
      "outputs": [
        {
          "output_type": "stream",
          "name": "stdout",
          "text": [
            "0.7565642173824547\n"
          ]
        }
      ]
    },
    {
      "cell_type": "code",
      "source": [
        "print(classification_report(y_validation,decision_tree_predict))"
      ],
      "metadata": {
        "colab": {
          "base_uri": "https://localhost:8080/"
        },
        "id": "Aly5EQ7a7Z2B",
        "outputId": "ec13e772-3151-45fc-afe3-44ac379e9ff2"
      },
      "execution_count": 36,
      "outputs": [
        {
          "output_type": "stream",
          "name": "stdout",
          "text": [
            "              precision    recall  f1-score   support\n",
            "\n",
            "           0       0.76      0.71      0.73      1641\n",
            "           1       0.73      0.71      0.72      1581\n",
            "           2       0.78      0.84      0.81      1691\n",
            "\n",
            "    accuracy                           0.76      4913\n",
            "   macro avg       0.76      0.76      0.75      4913\n",
            "weighted avg       0.76      0.76      0.76      4913\n",
            "\n"
          ]
        }
      ]
    },
    {
      "cell_type": "markdown",
      "source": [
        "### HyperParameter tunning"
      ],
      "metadata": {
        "id": "SMbgeBA-DMJZ"
      }
    },
    {
      "cell_type": "code",
      "source": [
        "import warnings\n",
        "warnings.filterwarnings(\"ignore\")\n",
        "parameters = [\n",
        "    {\"penalty\":[\"l1\",\"l2\",\"none\"],\n",
        "     \"max_iter\": [100,500,1000]}\n",
        "\n",
        "]\n",
        "lg1 = LogisticRegression()\n",
        "grid_search = GridSearchCV(lg1,param_grid = parameters,cv= 5)\n",
        "grid_search.fit(X_train_tf,y_train)\n",
        "best_parameters1 = grid_search.best_params_"
      ],
      "metadata": {
        "id": "0NQMBxK9Cs0y"
      },
      "execution_count": 37,
      "outputs": []
    },
    {
      "cell_type": "code",
      "source": [
        "lg1 = LogisticRegression(**best_parameters1)\n",
        "lg1.fit(X_train_tf,y_train)\n",
        "lg1_para_pred = lg1.predict(X_valid_tf)\n",
        "print(accuracy_score(y_validation,lg1_para_pred))"
      ],
      "metadata": {
        "colab": {
          "base_uri": "https://localhost:8080/"
        },
        "id": "p2HB-4v_EGhH",
        "outputId": "f558c0d7-3c0c-446f-edd5-0c65dcb55587"
      },
      "execution_count": 38,
      "outputs": [
        {
          "output_type": "stream",
          "name": "stdout",
          "text": [
            "0.7769183798086708\n"
          ]
        }
      ]
    },
    {
      "cell_type": "code",
      "source": [
        "print(classification_report(y_validation,lg1_para_pred))"
      ],
      "metadata": {
        "colab": {
          "base_uri": "https://localhost:8080/"
        },
        "id": "Kpdz6NQ-7ehW",
        "outputId": "ecda801d-9842-44d9-a7ee-da8451ba3c10"
      },
      "execution_count": 39,
      "outputs": [
        {
          "output_type": "stream",
          "name": "stdout",
          "text": [
            "              precision    recall  f1-score   support\n",
            "\n",
            "           0       0.77      0.77      0.77      1641\n",
            "           1       0.74      0.72      0.73      1581\n",
            "           2       0.81      0.84      0.83      1691\n",
            "\n",
            "    accuracy                           0.78      4913\n",
            "   macro avg       0.78      0.78      0.78      4913\n",
            "weighted avg       0.78      0.78      0.78      4913\n",
            "\n"
          ]
        }
      ]
    },
    {
      "cell_type": "code",
      "source": [
        "from sklearn import metrics\n",
        "conf_log = confusion_matrix(y_validation,lg1_para_pred)\n",
        "log_dis = metrics.ConfusionMatrixDisplay(confusion_matrix = conf_log,display_labels=[\"Positive\",\"Negative\",\"Neutral\"])\n",
        "log_dis.plot(cmap = \"OrRd\")\n",
        "pt.show()"
      ],
      "metadata": {
        "colab": {
          "base_uri": "https://localhost:8080/",
          "height": 451
        },
        "id": "z8c_zWcVFKbX",
        "outputId": "cff1f7ff-cef6-478b-a3d8-67fbe3b39b43"
      },
      "execution_count": 40,
      "outputs": [
        {
          "output_type": "display_data",
          "data": {
            "text/plain": [
              "<Figure size 640x480 with 2 Axes>"
            ],
            "image/png": "[encoded data removed]"
          },
          "metadata": {}
        }
      ]
    },
    {
      "cell_type": "code",
      "source": [
        "parameters = {\n",
        "    \"n_estimators\": [i for i in range(5,100,5)],\n",
        "    \"max_depth\":[5,10,15,20]\n",
        "}\n",
        "reg1 = RandomForestClassifier()\n",
        "ran = RandomizedSearchCV(estimator= reg1,param_distributions=parameters,cv=3)\n",
        "ran.fit(X_train_tf,y_train)\n",
        "best_parameter = ran.best_params_"
      ],
      "metadata": {
        "id": "GLWcI_abFvK7"
      },
      "execution_count": 41,
      "outputs": []
    },
    {
      "cell_type": "code",
      "source": [
        "reg1 = RandomForestClassifier(**best_parameter)\n",
        "reg1.fit(X_train_tf,y_train)\n",
        "regress_pred = reg1.predict(X_valid_tf)\n",
        "print(accuracy_score(y_validation,regress_pred))"
      ],
      "metadata": {
        "colab": {
          "base_uri": "https://localhost:8080/"
        },
        "id": "Hfsg0aXeGi4m",
        "outputId": "1fe035bd-dfce-4dd9-e1e2-6e967efef43e"
      },
      "execution_count": 42,
      "outputs": [
        {
          "output_type": "stream",
          "name": "stdout",
          "text": [
            "0.7573783838795034\n"
          ]
        }
      ]
    },
    {
      "cell_type": "code",
      "source": [
        "print(classification_report(y_validation,regress_pred))"
      ],
      "metadata": {
        "colab": {
          "base_uri": "https://localhost:8080/"
        },
        "id": "aQv3MHTc7jne",
        "outputId": "52af7e96-c7de-43f6-dbfc-68b556006329"
      },
      "execution_count": 43,
      "outputs": [
        {
          "output_type": "stream",
          "name": "stdout",
          "text": [
            "              precision    recall  f1-score   support\n",
            "\n",
            "           0       0.79      0.67      0.73      1641\n",
            "           1       0.71      0.74      0.72      1581\n",
            "           2       0.78      0.86      0.81      1691\n",
            "\n",
            "    accuracy                           0.76      4913\n",
            "   macro avg       0.76      0.76      0.75      4913\n",
            "weighted avg       0.76      0.76      0.76      4913\n",
            "\n"
          ]
        }
      ]
    },
    {
      "cell_type": "code",
      "source": [
        "ran_con1 = confusion_matrix(y_validation,regress_pred)\n",
        "ran_disply1 = metrics.ConfusionMatrixDisplay(confusion_matrix=ran_con1,display_labels=[\"Positive\",\"Negative\",\"Neutral\"])\n",
        "ran_disply1.plot(cmap = \"OrRd\")\n",
        "pt.show()"
      ],
      "metadata": {
        "colab": {
          "base_uri": "https://localhost:8080/",
          "height": 449
        },
        "id": "5zmfo5y-z0Vr",
        "outputId": "46f08810-44e7-49f0-ec1f-8ea1248ad9d8"
      },
      "execution_count": 44,
      "outputs": [
        {
          "output_type": "display_data",
          "data": {
            "text/plain": [
              "<Figure size 640x480 with 2 Axes>"
            ],
            "image/png": "[encoded data removed]"
          },
          "metadata": {}
        }
      ]
    },
    {
      "cell_type": "code",
      "source": [
        "parameters = {\n",
        "    \"max_depth\": [2,4,6,8,10],\n",
        "    \"min_samples_leaf\": [3,6,9,12],\n",
        "    \"criterion\" : [\"gini\",\"entropy\"]\n",
        "\n",
        "}\n",
        "dec = DecisionTreeClassifier()\n",
        "grid1 = GridSearchCV(estimator=dec,param_grid=parameters,cv=5)\n",
        "grid1.fit(X_train_tf,y_train)\n",
        "best_parameter2 = grid1.best_params_"
      ],
      "metadata": {
        "id": "ELWFekNuIrLT"
      },
      "execution_count": 45,
      "outputs": []
    },
    {
      "cell_type": "code",
      "source": [
        "dec = DecisionTreeClassifier(**best_parameter2)\n",
        "dec.fit(X_train_tf,y_train)\n",
        "dec_pred = dec.predict(X_valid_tf)\n",
        "print(accuracy_score(y_validation,dec_pred))"
      ],
      "metadata": {
        "colab": {
          "base_uri": "https://localhost:8080/"
        },
        "id": "WAwKRdFfKs1j",
        "outputId": "0983464f-92ae-4c3c-bdb0-e5292a401650"
      },
      "execution_count": 46,
      "outputs": [
        {
          "output_type": "stream",
          "name": "stdout",
          "text": [
            "0.6358640341949928\n"
          ]
        }
      ]
    },
    {
      "cell_type": "code",
      "source": [
        "print(classification_report(y_validation,dec_pred))"
      ],
      "metadata": {
        "colab": {
          "base_uri": "https://localhost:8080/"
        },
        "id": "abtSRFoq7omC",
        "outputId": "a3f9e968-005c-4bf7-c716-22b3f80fed67"
      },
      "execution_count": 47,
      "outputs": [
        {
          "output_type": "stream",
          "name": "stdout",
          "text": [
            "              precision    recall  f1-score   support\n",
            "\n",
            "           0       0.90      0.42      0.57      1641\n",
            "           1       0.49      0.88      0.63      1581\n",
            "           2       0.78      0.62      0.69      1691\n",
            "\n",
            "    accuracy                           0.64      4913\n",
            "   macro avg       0.73      0.64      0.63      4913\n",
            "weighted avg       0.73      0.64      0.63      4913\n",
            "\n"
          ]
        }
      ]
    },
    {
      "cell_type": "code",
      "source": [
        "dec_con1 = confusion_matrix(y_validation,dec_pred)\n",
        "dec_display = metrics.ConfusionMatrixDisplay(confusion_matrix=dec_con1,display_labels=[\"positive\",\"Negative\",\"Neutral\"])\n",
        "dec_display.plot(cmap = \"OrRd\")\n",
        "pt.show()"
      ],
      "metadata": {
        "colab": {
          "base_uri": "https://localhost:8080/",
          "height": 449
        },
        "id": "FLfxmiOBOHtk",
        "outputId": "3becf098-0713-4a79-dca1-57f304acb7e7"
      },
      "execution_count": 48,
      "outputs": [
        {
          "output_type": "display_data",
          "data": {
            "text/plain": [
              "<Figure size 640x480 with 2 Axes>"
            ],
            "image/png": "[encoded data removed]"
          },
          "metadata": {}
        }
      ]
    },
    {
      "cell_type": "code",
      "source": [
        "parameters = {\n",
        "    \"C\" :[0.1,1,10],\n",
        "    \"gamma\" : [1,0.1]\n",
        "\n",
        "}\n",
        "svc1 = SVC()\n",
        "svc_grid = GridSearchCV(svc1,param_grid = parameters,cv=5)\n",
        "svc_grid.fit(X_train_tf,y_train)\n",
        "best_svc_param = svc_grid.best_params_\n",
        "\n"
      ],
      "metadata": {
        "id": "RgxBMwCd_k-I"
      },
      "execution_count": 49,
      "outputs": []
    },
    {
      "cell_type": "code",
      "source": [
        "svc2 = SVC(**best_svc_param)\n",
        "svc2.fit(X_train_tf,y_train)\n",
        "svc2_pred = svc2.predict(X_valid_tf)\n",
        "print(accuracy_score(y_validation,svc2_pred))"
      ],
      "metadata": {
        "colab": {
          "base_uri": "https://localhost:8080/"
        },
        "id": "tl7AHMxBA1la",
        "outputId": "74cb1de1-253b-446c-d9b2-8068ddeb92ae"
      },
      "execution_count": 50,
      "outputs": [
        {
          "output_type": "stream",
          "name": "stdout",
          "text": [
            "0.7824140036637492\n"
          ]
        }
      ]
    },
    {
      "cell_type": "code",
      "source": [
        "print(classification_report(y_validation,svc2_pred))"
      ],
      "metadata": {
        "colab": {
          "base_uri": "https://localhost:8080/"
        },
        "id": "_gOj8DRh7sug",
        "outputId": "3516e52c-1ce8-4d10-d4ba-fc11dbd8cf51"
      },
      "execution_count": 51,
      "outputs": [
        {
          "output_type": "stream",
          "name": "stdout",
          "text": [
            "              precision    recall  f1-score   support\n",
            "\n",
            "           0       0.79      0.75      0.77      1641\n",
            "           1       0.74      0.74      0.74      1581\n",
            "           2       0.81      0.86      0.84      1691\n",
            "\n",
            "    accuracy                           0.78      4913\n",
            "   macro avg       0.78      0.78      0.78      4913\n",
            "weighted avg       0.78      0.78      0.78      4913\n",
            "\n"
          ]
        }
      ]
    },
    {
      "cell_type": "code",
      "source": [
        "svc_con1 = confusion_matrix(y_validation,svc2_pred)\n",
        "svc_display = metrics.ConfusionMatrixDisplay(confusion_matrix=dec_con1,display_labels=[\"positive\",\"Negative\",\"Neutral\"])\n",
        "svc_display.plot(cmap = \"OrRd\")\n",
        "pt.show()"
      ],
      "metadata": {
        "colab": {
          "base_uri": "https://localhost:8080/",
          "height": 449
        },
        "id": "CHVhhndYCgnC",
        "outputId": "6500eb2b-4b64-4f0c-d63c-46d23040ef03"
      },
      "execution_count": 52,
      "outputs": [
        {
          "output_type": "display_data",
          "data": {
            "text/plain": [
              "<Figure size 640x480 with 2 Axes>"
            ],
            "image/png": "[encoded data removed]"
          },
          "metadata": {}
        }
      ]
    },
    {
      "cell_type": "markdown",
      "source": [
        "## Evaluation with testing data"
      ],
      "metadata": {
        "id": "_riPr_N7OWP3"
      }
    },
    {
      "cell_type": "code",
      "source": [
        "lg1_pred_test = lg1.predict(X_test_tf)\n",
        "print(accuracy_score(y_test,lg1_pred_test))\n",
        "\n",
        "log_con = confusion_matrix(y_test,lg1_pred_test)"
      ],
      "metadata": {
        "colab": {
          "base_uri": "https://localhost:8080/"
        },
        "id": "-JiONjoyOOw4",
        "outputId": "df7b865d-bab9-4217-a9e0-7f35c911e5d3"
      },
      "execution_count": 53,
      "outputs": [
        {
          "output_type": "stream",
          "name": "stdout",
          "text": [
            "0.777723497801661\n"
          ]
        }
      ]
    },
    {
      "cell_type": "code",
      "source": [
        "print(classification_report(y_test,lg1_pred_test))"
      ],
      "metadata": {
        "colab": {
          "base_uri": "https://localhost:8080/"
        },
        "id": "qM-4kkPU7xlf",
        "outputId": "06494cbe-f06c-4017-c680-a25c4a967a8d"
      },
      "execution_count": 54,
      "outputs": [
        {
          "output_type": "stream",
          "name": "stdout",
          "text": [
            "              precision    recall  f1-score   support\n",
            "\n",
            "           0       0.77      0.78      0.78      2080\n",
            "           1       0.76      0.73      0.74      2063\n",
            "           2       0.80      0.83      0.81      1998\n",
            "\n",
            "    accuracy                           0.78      6141\n",
            "   macro avg       0.78      0.78      0.78      6141\n",
            "weighted avg       0.78      0.78      0.78      6141\n",
            "\n"
          ]
        }
      ]
    },
    {
      "cell_type": "code",
      "source": [
        "test_display = metrics.ConfusionMatrixDisplay(confusion_matrix=log_con,display_labels=[\"Positive\",\"Negative\",\"Netutral\"])\n",
        "test_display.plot(cmap= \"OrRd\")\n",
        "pt.show()"
      ],
      "metadata": {
        "id": "bKChmcWHOzLm",
        "colab": {
          "base_uri": "https://localhost:8080/",
          "height": 449
        },
        "outputId": "4429a887-4a3a-4491-cfba-3547d8d3eea4"
      },
      "execution_count": 55,
      "outputs": [
        {
          "output_type": "display_data",
          "data": {
            "text/plain": [
              "<Figure size 640x480 with 2 Axes>"
            ],
            "image/png": "[encoded data removed]"
          },
          "metadata": {}
        }
      ]
    },
    {
      "cell_type": "markdown",
      "source": [
        "Accurcay, Precision and Recall score for all the above models"
      ],
      "metadata": {
        "id": "cIXh5ZblE6EX"
      }
    },
    {
      "cell_type": "markdown",
      "source": [
        "![image.png](data:image/png;base64,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)"
      ],
      "metadata": {
        "id": "ifMTIgE7E3TF"
      }
    },
    {
      "cell_type": "markdown",
      "source": [
        "## Conclusion:<br>\n",
        "We can see that Logistic regression and SVC are the 2 models which are giving almost equal percentage of accuracy rate but the precision and recall score of the svc file is not that accurate as that of Logistic regression. Therefore for test evaluation we used logistic regression as our model and got an accuracy of 77% with 1598, 1494 and 1670 reviwes sentimented positive, negative and neutral correctly."
      ],
      "metadata": {
        "id": "r5AyGEhmPCzF"
      }
    },
    {
      "cell_type": "markdown",
      "source": [
        "## Recommendation: <br>\n",
        "1) We can work on the customer feedback to get more precise data.<br>\n",
        "2) Product quality can be increased.<br>\n",
        "3) Need to use negative feedback more accurately to improve the experience of customer.<br>\n",
        "4) With sentiment analysis use the customer insights on the product.\n"
      ],
      "metadata": {
        "id": "7XOHoV48PrbP"
      }
    },
    {
      "cell_type": "markdown",
      "source": [
        "![image.png](data:image/png;base64,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)"
      ],
      "metadata": {
        "id": "pJtoI0VAwACw"
      }
    },
    {
      "cell_type": "code",
      "source": [
        "%%shell\n",
        "jupyter nbconvert FlipKart_tweets.ipynb --to html"
      ],
      "metadata": {
        "id": "429Zl8vo-cTn",
        "colab": {
          "base_uri": "https://localhost:8080/"
        },
        "outputId": "2c7a28c8-9447-42b8-b31f-6ba107128565"
      },
      "execution_count": 58,
      "outputs": [
        {
          "output_type": "stream",
          "name": "stdout",
          "text": [
            "[NbConvertApp] Converting notebook FlipKart_tweets.ipynb to html\n",
            "[NbConvertApp] Writing 1207143 bytes to FlipKart_tweets.html\n"
          ]
        },
        {
          "output_type": "execute_result",
          "data": {
            "text/plain": []
          },
          "metadata": {},
          "execution_count": 58
        }
      ]
    },
    {
      "cell_type": "code",
      "source": [],
      "metadata": {
        "id": "XHpvJckKFTP4"
      },
      "execution_count": null,
      "outputs": []
    }
  ]
}